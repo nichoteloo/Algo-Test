{
 "cells": [
  {
   "cell_type": "code",
   "execution_count": 3,
   "metadata": {},
   "outputs": [],
   "source": [
    "## Sock Merchant\n",
    "## https://www.hackerrank.com/challenges/sock-merchant/problem\n",
    "\n",
    "def sockMerchant(n, ar):\n",
    "    # Write your code here\n",
    "    temp = {}\n",
    "    new_temp = {}\n",
    "    for x in ar:\n",
    "        temp[x] = temp.get(x,0) + 1\n",
    "    for key, value in temp.items():\n",
    "        if value > 1:\n",
    "            if value % 2 == 1:\n",
    "                new_temp[key] = value - 1\n",
    "            else:\n",
    "                new_temp[key] = value            \n",
    "    return sum(new_temp.values()) // 2"
   ]
  },
  {
   "cell_type": "code",
   "execution_count": 4,
   "metadata": {},
   "outputs": [],
   "source": [
    "## Counting Valleys\n",
    "## https://www.hackerrank.com/challenges/counting-valleys/problem\n",
    "\n",
    "def countingValleys(steps, path):\n",
    "    # Write your code here\n",
    "    sea_level = 0\n",
    "    count = 0\n",
    "    for i in range(steps):\n",
    "        if path[i] == 'U':\n",
    "            sea_level += 1\n",
    "        elif path[i] == 'D':\n",
    "            sea_level -= 1\n",
    "            if sea_level == -1:\n",
    "                count += 1\n",
    "    return count"
   ]
  },
  {
   "cell_type": "code",
   "execution_count": 9,
   "metadata": {},
   "outputs": [],
   "source": [
    "## Jumping on the clouds\n",
    "## https://www.hackerrank.com/challenges/jumping-on-the-clouds/problem\n",
    "\n",
    "def jumpingOnClouds(c):\n",
    "    x,y = 0,0\n",
    "    while x<len(c)-2:\n",
    "        x = x+1 if c[x+2] else x+2\n",
    "        y+=1\n",
    "    if x<len(c)-1:\n",
    "        y+=1\n",
    "    return y"
   ]
  },
  {
   "cell_type": "code",
   "execution_count": 21,
   "metadata": {},
   "outputs": [],
   "source": [
    "## Repeated String\n",
    "## https://www.hackerrank.com/challenges/repeated-string/problem\n",
    "\n",
    "def repeatedString(s, n):\n",
    "    # Write your code here\n",
    "    return s.count('a') * (n // len(s)) + s[:n % len(s)].count('a')"
   ]
  },
  {
   "cell_type": "code",
   "execution_count": 58,
   "metadata": {},
   "outputs": [],
   "source": [
    "## Left Rotation\n",
    "## https://www.hackerrank.com/challenges/ctci-array-left-rotation/problem\n",
    "\n",
    "def rotLeft(a, d): ## list slicing\n",
    "    # Write your code here\n",
    "    return a[d:len(a)] + a[:d]\n",
    "\n",
    "def rotLeft2(arr, n, d):\n",
    "    arr[:] = arr[d:n] + arr[:d]\n",
    "    return arr"
   ]
  },
  {
   "cell_type": "code",
   "execution_count": 8,
   "metadata": {},
   "outputs": [
    {
     "name": "stdout",
     "output_type": "stream",
     "text": [
      "Array after left rotation is:  [3, 4, 5, 6, 7, 1, 2]\n",
      " \n",
      "[3, 4, 5, 6, 7, 1, 2]\n"
     ]
    }
   ],
   "source": [
    "## Rotate Array (Using Temp)\n",
    "def rotateArray(arr, n, d):\n",
    "    i = 0\n",
    "    temp = []\n",
    "    while (i < d):\n",
    "        temp.append(arr[i])\n",
    "        i += 1\n",
    "    i = 0\n",
    "    while (d < n):\n",
    "        arr[i] = arr[d]\n",
    "        i += 1\n",
    "        d += 1\n",
    "    arr[:] = arr[:i] + temp\n",
    "    return arr\n",
    "\n",
    "arr = [1, 2, 3, 4, 5, 6, 7]\n",
    "print(\"Array after left rotation is: \", end=' ')\n",
    "print(rotateArray(arr, len(arr), 2))\n",
    "\n",
    "## ORR \n",
    "## (Rotate one by one), shifting\n",
    "def leftRotatebyOne(arr, n):\n",
    "    temp = arr[0]\n",
    "    for i in range(n-1):\n",
    "        arr[i] = arr[i+1]\n",
    "    arr[-1] = temp\n",
    "\n",
    "def leftRotate(arr, n, d):\n",
    "    for i in range(d):\n",
    "        leftRotatebyOne(arr, n)\n",
    "\n",
    "def printArray(arr, size):\n",
    "    for i in range(size):\n",
    "        print(\"%d\" %arr[i], end=\" \")\n",
    "\n",
    "print(\" \")\n",
    "arr = [1, 2, 3, 4, 5, 6, 7]\n",
    "leftRotate(arr, 7, 2)\n",
    "# printArray(arr, 7)\n",
    "print(arr)"
   ]
  },
  {
   "cell_type": "code",
   "execution_count": 16,
   "metadata": {},
   "outputs": [
    {
     "name": "stdout",
     "output_type": "stream",
     "text": [
      "1\n",
      "[3, 4, 5, 6, 7, 1, 2]\n"
     ]
    }
   ],
   "source": [
    "## Sorting with GCD, 3 langkah ka hareup\n",
    "def leftRotate(arr, n, d):\n",
    "    for i in range(gcd(d,n)):\n",
    "        # move i-th values of blocks\n",
    "        temp = arr[i]\n",
    "        j = i\n",
    "        while 1:\n",
    "            k = j + d\n",
    "            if k >= n:\n",
    "                k = k - n\n",
    "            if k == i:\n",
    "                break\n",
    "            arr[j] = arr[k]\n",
    "            j = k\n",
    "        arr[j] = temp\n",
    "        print(temp)\n",
    "\n",
    "def gcd(a, b):\n",
    "    if b == 0:\n",
    "        return a\n",
    "    else:\n",
    "        return gcd(b, a%b)\n",
    "\n",
    "arr = [1, 2, 3, 4, 5, 6, 7]\n",
    "leftRotate(arr, 7, 2)\n",
    "print(arr)"
   ]
  },
  {
   "cell_type": "code",
   "execution_count": 41,
   "metadata": {},
   "outputs": [],
   "source": [
    "## Star Pattern #1\n",
    "# n = 5\n",
    "# for i in range(0,n):\n",
    "#     for j in range(0,i+1):\n",
    "#         print(\"* \", end=\"\")\n",
    "#     print(\"\\r\")\n",
    "\n",
    "# mylist = []\n",
    "# for i in range(5):\n",
    "#     mylist.append(\"*\" * (i+1))\n",
    "# print(\"\\n\".join(mylist))\n",
    "\n",
    "## Star Pattern #2\n",
    "# n = 5\n",
    "# k = 2*n - 2\n",
    "# for i in range(0,n):\n",
    "#     for j in range(0,k):\n",
    "#         print(end=\" \")\n",
    "#     for j in range(0, i+1):\n",
    "#         print(\"* \", end=\"\")\n",
    "#     print(\"\\r\")\n",
    "#     k = k - 2\n",
    "\n",
    "## Star Pattern #3\n",
    "# triangle\n",
    "# n = 5\n",
    "# k = n - 1\n",
    "# for i in range(0,n):\n",
    "#     for j in range(0, k):\n",
    "#         print(end=\" \")\n",
    "#     for j in range(0, i+1):\n",
    "#         print(\"* \", end=\"\")\n",
    "#     print(\"\\r\")\n",
    "#     k = k -1\n",
    "\n",
    "## Star Pattern with number\n",
    "# n = 5\n",
    "# num = 1\n",
    "# for i in range(0, n):\n",
    "#     num = 1\n",
    "#     for j in range(0, i+1):\n",
    "#         print(num, end=\" \")\n",
    "#         num = num + 1\n",
    "#     print(\"\\r\")\n",
    "\n",
    "## Star pattern with number increasingly\n",
    "# n = 5\n",
    "# num = 1\n",
    "# for i in range(0, n):\n",
    "#     for j in range(0, i+1):\n",
    "#         print(num, end=\" \")\n",
    "#         num = num + 1\n",
    "#     print(\"\\r\")\n",
    "\n",
    "## Alphabet pattern\n",
    "# n = 5\n",
    "# num = 65\n",
    "# for i in range(0, n):\n",
    "#     for j in range(0, i+1):\n",
    "#         ch = chr(num)\n",
    "#         print(ch, end=\" \")\n",
    "#     num = num + 1\n",
    "#     print(\"\\r\")"
   ]
  },
  {
   "cell_type": "code",
   "execution_count": 51,
   "metadata": {},
   "outputs": [
    {
     "data": {
      "text/plain": [
       "'mR.eD'"
      ]
     },
     "execution_count": 51,
     "metadata": {},
     "output_type": "execute_result"
    }
   ],
   "source": [
    "## Swap Case\n",
    "# https://www.hackerrank.com/challenges/swap-case/problem\n",
    "\n",
    "def swap_case(s): ## ngga maksimal\n",
    "    lower = 'abcdefghijklmnopqrstuvwyz'\n",
    "    new_string = ''\n",
    "    for i in range(len(s)):\n",
    "        if s[i] in list(lower):\n",
    "            new_string += s[i].upper()\n",
    "        else:\n",
    "            new_string += s[i].lower()\n",
    "    return new_string\n",
    "\n",
    "def swap_case2(s):\n",
    "    return s.swapcase()\n",
    "\n",
    "## OR\n",
    "name = 'Mr.Ed'\n",
    "''.join(c.lower() if c.isupper() else c.upper() for c in name)"
   ]
  },
  {
   "cell_type": "code",
   "execution_count": 64,
   "metadata": {},
   "outputs": [
    {
     "name": "stdout",
     "output_type": "stream",
     "text": [
      "Hello World \n"
     ]
    }
   ],
   "source": [
    "## Capitalize\n",
    "s = \"hello world\"\n",
    "new_word = s.split()\n",
    "new_string = ''\n",
    "for el in new_word:\n",
    "    new_string += el[0].upper() + el[1:]\n",
    "    if el == new_word[-1]:\n",
    "        new_string += \"\"\n",
    "    new_string += \" \"\n",
    "print(new_string)"
   ]
  },
  {
   "cell_type": "code",
   "execution_count": null,
   "metadata": {},
   "outputs": [],
   "source": [
    "## 2D Array DS\n",
    "# https://www.hackerrank.com/challenges/2d-array/problem\n",
    "def hourglassSum(arr):\n",
    "    for i in range(0, len(arr)):\n",
    "        for j in range(0, len(arr[i])):\n",
    "            "
   ]
  }
 ],
 "metadata": {
  "kernelspec": {
   "display_name": "Python [conda env:NicolasEnv] *",
   "language": "python",
   "name": "conda-env-NicolasEnv-py"
  },
  "language_info": {
   "codemirror_mode": {
    "name": "ipython",
    "version": 3
   },
   "file_extension": ".py",
   "mimetype": "text/x-python",
   "name": "python",
   "nbconvert_exporter": "python",
   "pygments_lexer": "ipython3",
   "version": "3.7.6"
  }
 },
 "nbformat": 4,
 "nbformat_minor": 4
}
