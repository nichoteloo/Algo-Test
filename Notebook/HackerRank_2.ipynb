{
  "nbformat": 4,
  "nbformat_minor": 0,
  "metadata": {
    "colab": {
      "name": "HackerRank 2.ipynb",
      "provenance": [],
      "collapsed_sections": []
    },
    "kernelspec": {
      "name": "python3",
      "display_name": "Python 3"
    },
    "language_info": {
      "name": "python"
    }
  },
  "cells": [
    {
      "cell_type": "code",
      "metadata": {
        "colab": {
          "base_uri": "https://localhost:8080/"
        },
        "id": "nmxYDSsKXZh-",
        "outputId": "cf2ae1d2-b9ac-4266-8ce3-fbc7ed85f310"
      },
      "source": [
        "## Print hello world\n",
        "print(\"Hello, world!\")"
      ],
      "execution_count": null,
      "outputs": [
        {
          "output_type": "stream",
          "name": "stdout",
          "text": [
            "Hello, world!\n"
          ]
        }
      ]
    },
    {
      "cell_type": "code",
      "metadata": {
        "colab": {
          "base_uri": "https://localhost:8080/"
        },
        "id": "r-8HQcv_XjZb",
        "outputId": "7e7675a7-04d8-4806-ff00-8a6548d381c7"
      },
      "source": [
        "## If Else Problem\n",
        "#!/bin/python3\n",
        "\n",
        "def IfElseProblem(n):\n",
        "  if n % 2 == 1 :\n",
        "    print(\"weird\")\n",
        "  elif n % 2 == 0 :\n",
        "    if 2 <= n <= 5 or n > 20:\n",
        "      print(\"not weird\")\n",
        "    elif 6 <= n <= 20:\n",
        "      print(\"weird\")\n",
        "\n",
        "def IfElseProblem2(n):\n",
        "  if n % 2 == 1:\n",
        "    print(\"weird\")\n",
        "  elif n % 2 == 0:\n",
        "    if (6 <= n <= 20):\n",
        "      print(\"weird\")\n",
        "    else: print(\"not weird\")\n",
        "\n",
        "# IfElseProblem(int(input()))\n",
        "IfElseProblem2(int(input()))"
      ],
      "execution_count": null,
      "outputs": [
        {
          "output_type": "stream",
          "name": "stdout",
          "text": [
            "4\n",
            "not weird\n"
          ]
        }
      ]
    },
    {
      "cell_type": "code",
      "metadata": {
        "colab": {
          "base_uri": "https://localhost:8080/"
        },
        "id": "DPmqvogLc5KV",
        "outputId": "26564977-6586-45ec-b81a-d8c88753e828"
      },
      "source": [
        "## Aritmatic Operator\n",
        "#!/bin/python3\n",
        "\n",
        "def ArithmaticOperator(a,b):\n",
        "  print(f\"{a+b}\")\n",
        "  print(f\"{a-b}\")\n",
        "  print(f\"{a*b}\")\n",
        "\n",
        "ArithmaticOperator(int(input()), int(input()))"
      ],
      "execution_count": null,
      "outputs": [
        {
          "output_type": "stream",
          "name": "stdout",
          "text": [
            "1\n",
            "2\n",
            "3\n",
            "-1\n",
            "2\n"
          ]
        }
      ]
    },
    {
      "cell_type": "code",
      "metadata": {
        "colab": {
          "base_uri": "https://localhost:8080/"
        },
        "id": "UhYWzLy7foOj",
        "outputId": "0aa0117f-d9c3-4c1a-8267-26a436a3725b"
      },
      "source": [
        "## Division Problem\n",
        "#!/bin/python3\n",
        "a = 4.9\n",
        "b = 3\n",
        "print(a / b)\n",
        "print(round(a/b))\n",
        "print(a // b)"
      ],
      "execution_count": null,
      "outputs": [
        {
          "output_type": "stream",
          "name": "stdout",
          "text": [
            "1.6333333333333335\n",
            "2\n",
            "1.0\n"
          ]
        }
      ]
    },
    {
      "cell_type": "code",
      "metadata": {
        "colab": {
          "base_uri": "https://localhost:8080/"
        },
        "id": "O6Psr3mqgCCh",
        "outputId": "90b2ddcf-d1dc-498f-baa5-43ed6f5e47e9"
      },
      "source": [
        "## List Comprehension\n",
        "#!/bin/python3\n",
        "\n",
        "# a, b, c, d = 1, 2, 3, 4\n",
        "\n",
        "## Buat fungsi rotate\n",
        "## Loop index dari 0 sampai len(arr)\n",
        "## Untuk tiap loop run rotate function\n",
        "## hasil run rotate function append ke new list\n",
        "## renew latest arr\n",
        "## return new list total di akhir loop\n",
        "\n",
        "def ListComprehension(**args):\n",
        "  combination = []\n",
        "  init = [x for x in args.values()]\n",
        "  for i in range(len(init)):\n",
        "    if i > 0:\n",
        "      new_updated = Slicing(init)\n",
        "      combination.append(new_updated)\n",
        "      init = new_updated\n",
        "    else:\n",
        "      combination.append(init)\n",
        "  return combination\n",
        "\n",
        "## Helper function 1\n",
        "def Slicing(arr):\n",
        "  return arr[1:len(arr)] + arr[:1]\n",
        "\n",
        "# print(ListComprehension(a=int(input()), b=int(input()), c=int(input()), d=int(input())))\n",
        "\n",
        "\n",
        "##### ORRR ######\n",
        "x, y, z, n = 1, 2, 3, 4\n",
        "for i in range(x + 1):\n",
        "  for j in range(y + 1):\n",
        "    for k in range(z + 1):\n",
        "      if i+j+k != n:\n",
        "        print(list([i,j,k]))"
      ],
      "execution_count": null,
      "outputs": [
        {
          "output_type": "stream",
          "name": "stdout",
          "text": [
            "[0, 0, 0]\n",
            "[0, 0, 1]\n",
            "[0, 0, 2]\n",
            "[0, 0, 3]\n",
            "[0, 1, 0]\n",
            "[0, 1, 1]\n",
            "[0, 1, 2]\n",
            "[0, 2, 0]\n",
            "[0, 2, 1]\n",
            "[0, 2, 3]\n",
            "[1, 0, 0]\n",
            "[1, 0, 1]\n",
            "[1, 0, 2]\n",
            "[1, 1, 0]\n",
            "[1, 1, 1]\n",
            "[1, 1, 3]\n",
            "[1, 2, 0]\n",
            "[1, 2, 2]\n",
            "[1, 2, 3]\n"
          ]
        }
      ]
    },
    {
      "cell_type": "code",
      "metadata": {
        "colab": {
          "base_uri": "https://localhost:8080/"
        },
        "id": "G1hv21_Z46O4",
        "outputId": "6b37436c-aa0a-4580-c295-f2cbfc762e23"
      },
      "source": [
        "## SwapCase\n",
        "## input: string (consist of lowercase and uppercase)\n",
        "## ouput: new string (lowercase to uppercase and vice versa)\n",
        "\n",
        "def swapCase(a_string):\n",
        "  new_string = ''\n",
        "  for char in a_string:\n",
        "    if char.islower():\n",
        "      new_string += char.upper()\n",
        "    else:\n",
        "      new_string += char.lower()\n",
        "  return new_string\n",
        "\n",
        "### Built in function\n",
        "def swapCase2(a_string):\n",
        "  return a_string.swapcase()\n",
        "\n",
        "print(swapCase(input()))\n",
        "print(\" \")\n",
        "print(swapCase2(input()))"
      ],
      "execution_count": null,
      "outputs": [
        {
          "output_type": "stream",
          "name": "stdout",
          "text": [
            "oKe\n",
            "OkE\n",
            " \n",
            "oKe\n",
            "OkE\n"
          ]
        }
      ]
    },
    {
      "cell_type": "code",
      "metadata": {
        "colab": {
          "base_uri": "https://localhost:8080/"
        },
        "id": "7lR41eRj5vb3",
        "outputId": "c981d061-ced3-43f3-81b8-e8b1d4e4094d"
      },
      "source": [
        "## String Split Join\n",
        "## input: string with separate spaces\n",
        "## output: newstring with space replace to hypen\n",
        "\n",
        "def StringSplitJoin(a_str):\n",
        "  list_str = a_str.split()\n",
        "  new_str = \"-\".join(list_str)\n",
        "  return new_str\n",
        "\n",
        "def StringSplitJoin2(a_str):\n",
        "  return a_str.replace(\" \",\"-\")\n",
        "\n",
        "a_string = \"a b c d\"\n",
        "print(StringSplitJoin(a_string))\n",
        "print(StringSplitJoin2(a_string))"
      ],
      "execution_count": null,
      "outputs": [
        {
          "output_type": "stream",
          "name": "stdout",
          "text": [
            "a-b-c-d\n",
            "a-b-c-d\n"
          ]
        }
      ]
    },
    {
      "cell_type": "code",
      "metadata": {
        "colab": {
          "base_uri": "https://localhost:8080/"
        },
        "id": "EjT90nI36-p1",
        "outputId": "48f2755c-f75c-4508-ff9e-5bc4b71b4744"
      },
      "source": [
        "## Mutation Problem\n",
        "## input: abracadabra, 5, k\n",
        "## output: abrackdabra\n",
        "\n",
        "def Mutation(a_str, idx, c):\n",
        "  line = list(a_str)\n",
        "  line[idx] = c\n",
        "  return ''.join(line)\n",
        "\n",
        "print(Mutation('abracadabra', 5, 'k'))"
      ],
      "execution_count": null,
      "outputs": [
        {
          "output_type": "stream",
          "name": "stdout",
          "text": [
            "abrackdabra\n"
          ]
        }
      ]
    },
    {
      "cell_type": "code",
      "metadata": {
        "colab": {
          "base_uri": "https://localhost:8080/"
        },
        "id": "eoeNs7Lx8YUC",
        "outputId": "a40ead80-e728-4ef6-b559-5d45492234fe"
      },
      "source": [
        "## Find a string\n",
        "## input: string and substring\n",
        "## output: how many substring occurs\n",
        "\n",
        "def countSubString(a_str, sub_str):\n",
        "  return a_str.count(sub_str)\n",
        "\n",
        "# cara konservatif\n",
        "def countSubString2(a_str, sub_str):\n",
        "  count = 0\n",
        "  for i in range(0, (len(a_str) - len(sub_str)) + 1):\n",
        "    l = i\n",
        "    for j in range(0, len(sub_str)):\n",
        "      if a_str[l] == sub_str[j]:\n",
        "        l += 1\n",
        "        if j == len(sub_str) - 1:\n",
        "          count = count + 1\n",
        "        else:\n",
        "          continue\n",
        "      else:\n",
        "        break\n",
        "  return count\n",
        "\n",
        "a_string = 'okelahokeok'\n",
        "sub_string = 'oke'\n",
        "print(countSubString(a_string, sub_string))\n",
        "print(countSubString2(a_string, sub_string))"
      ],
      "execution_count": null,
      "outputs": [
        {
          "output_type": "stream",
          "name": "stdout",
          "text": [
            "2\n",
            "2\n"
          ]
        }
      ]
    },
    {
      "cell_type": "code",
      "metadata": {
        "colab": {
          "base_uri": "https://localhost:8080/"
        },
        "id": "Pd76u1WACYeT",
        "outputId": "9092bfa0-3a81-4ee5-ddb1-34295bd104d0"
      },
      "source": [
        "## Text Alignment\n",
        "## input: thickness, character\n",
        "## output: log\n",
        "\n",
        "def textAlignment(thickness, c):\n",
        "  # Top Cone\n",
        "  for i in range(thickness):\n",
        "    print((c*i).rjust(thickness-1)+c+(c*i).ljust(thickness-1))\n",
        "\n",
        "  # Top Pillars\n",
        "  for i in range(thickness + 1):\n",
        "    print((c*thickness).center(thickness*2)+(c*thickness).center(thickness*6))\n",
        "\n",
        "  #Middle Belt\n",
        "  for i in range((thickness+1)//2):\n",
        "    print((c*thickness*5).center(thickness*6))    \n",
        "\n",
        "  #Bottom Pillars\n",
        "  for i in range(thickness+1):\n",
        "    print((c*thickness).center(thickness*2)+(c*thickness).center(thickness*6))    \n",
        "\n",
        "  #Bottom Cone\n",
        "  for i in range(thickness):\n",
        "    print(((c*(thickness-i-1)).rjust(thickness)+c+(c*(thickness-i-1)).ljust(thickness)).rjust(thickness*6))\n",
        "\n",
        "textAlignment(int(input()), 'H')"
      ],
      "execution_count": 159,
      "outputs": [
        {
          "output_type": "stream",
          "name": "stdout",
          "text": [
            "5\n",
            "    H    \n",
            "   HHH   \n",
            "  HHHHH  \n",
            " HHHHHHH \n",
            "HHHHHHHHH\n",
            "  HHHHH               HHHHH             \n",
            "  HHHHH               HHHHH             \n",
            "  HHHHH               HHHHH             \n",
            "  HHHHH               HHHHH             \n",
            "  HHHHH               HHHHH             \n",
            "  HHHHH               HHHHH             \n",
            "  HHHHHHHHHHHHHHHHHHHHHHHHH   \n",
            "  HHHHHHHHHHHHHHHHHHHHHHHHH   \n",
            "  HHHHHHHHHHHHHHHHHHHHHHHHH   \n",
            "  HHHHH               HHHHH             \n",
            "  HHHHH               HHHHH             \n",
            "  HHHHH               HHHHH             \n",
            "  HHHHH               HHHHH             \n",
            "  HHHHH               HHHHH             \n",
            "  HHHHH               HHHHH             \n",
            "                    HHHHHHHHH \n",
            "                     HHHHHHH  \n",
            "                      HHHHH   \n",
            "                       HHH    \n",
            "                        H     \n"
          ]
        }
      ]
    },
    {
      "cell_type": "code",
      "metadata": {
        "id": "QljTdX78gk8q",
        "colab": {
          "base_uri": "https://localhost:8080/"
        },
        "outputId": "a1b07b44-fc63-45af-c65e-5c37cdb4c24f"
      },
      "source": [
        "## Find the runner up\n",
        "## input: array of int\n",
        "## output: second highest number within array\n",
        "\n",
        "def runnerUp(arr):\n",
        "  arr.remove(max(arr))\n",
        "  sec = max(arr)\n",
        "  return [x for x in arr if x == sec]\n",
        "\n",
        "arr = [10, 9, 3, 4, 5, 11, 6]\n",
        "print(runnerUp(arr))"
      ],
      "execution_count": null,
      "outputs": [
        {
          "output_type": "stream",
          "name": "stdout",
          "text": [
            "[10]\n",
            "None\n"
          ]
        }
      ]
    },
    {
      "cell_type": "code",
      "metadata": {
        "colab": {
          "base_uri": "https://localhost:8080/"
        },
        "id": "pofJyam0F7v0",
        "outputId": "007fa596-12dd-4c28-d576-54f89ca81806"
      },
      "source": [
        "## Nested List\n",
        "## input: given the names and grades of N students\n",
        "## output: print the name of students on the output screen that have the second-lowest grade. \n",
        "##         and if there are multiple students having the same grade then print them in alphabetical order.\n",
        "\n",
        "def nestedList(n):\n",
        "  num = 0\n",
        "  total = []\n",
        "\n",
        "  for i in range(n):\n",
        "    student = list((input(), float(input())))\n",
        "    total.append(student)\n",
        "\n",
        "  grade = [el[1] for el in total]\n",
        "\n",
        "  for el in total:\n",
        "    if el[1] > min(sorted(grade)):\n",
        "      num += el[1]\n",
        "      break\n",
        "\n",
        "  return \"\\n\".join([el[0] for el in total if el[1] == num])\n",
        "\n",
        "# print(nestedList(int(input())))\n",
        "\n",
        "###### OR ######\n",
        "\n",
        "def nestedList2(n):\n",
        "  students = []\n",
        "\n",
        "  for _ in range(int(input())):\n",
        "    name = input()\n",
        "    score = float(input())\n",
        "    students.append([name,score])\n",
        "\n",
        "  x = 999999\n",
        "  for i in range(len(students)):\n",
        "    if x > float(students[i][1]):\n",
        "      x = float(students[i][1])\n",
        "\n",
        "  y = 999999\n",
        "  for i in range(len(students)):\n",
        "    if float(students[i][1]) > float(x) and y > float(students[i][1]):\n",
        "      y = float(students[i][1])\n",
        "    \n",
        "  runner = []\n",
        "  for i in range(len(students)):\n",
        "    if float(students[i][1]) == float(y):\n",
        "      runner.append(stundets[i][0])\n",
        "  runner = sorted(runner)\n",
        "\n",
        "  for i in range(len(runner)):\n",
        "    print(runner[i])"
      ],
      "execution_count": null,
      "outputs": [
        {
          "output_type": "stream",
          "name": "stdout",
          "text": [
            "5\n",
            "Harry\n",
            "37.21\n",
            "Berry\n",
            "37.21\n",
            "Tina\n",
            "37.2\n",
            "Ariti\n",
            "41\n",
            "Harsh\n",
            "39\n",
            "['Harry', 'Berry']\n"
          ]
        }
      ]
    },
    {
      "cell_type": "code",
      "metadata": {
        "colab": {
          "base_uri": "https://localhost:8080/"
        },
        "id": "_BSW3FpdOye0",
        "outputId": "347cbcc7-d154-4b8d-fb74-bd4c231bae9e"
      },
      "source": [
        "## Find Percentage\n",
        "# input: read a dictionary that contains the key-value pairs of name and marks list of students\n",
        "# ouput: print the average of marks of every student on the output screen\n",
        "\n",
        "def findPercentage(n):\n",
        "  total = {}\n",
        "  for i in range(n):\n",
        "    a_string = input().split()\n",
        "    total[a_string[0]] = list(map(int, a_string[1:])) \n",
        "  key = input()\n",
        "  score = total[key]\n",
        "  return \"{:.2f}\".format(sum(score) / len(score))\n",
        "\n",
        "print(findPercentage(int(input())))"
      ],
      "execution_count": null,
      "outputs": [
        {
          "output_type": "stream",
          "name": "stdout",
          "text": [
            "3\n",
            "Krishna 67 68 69\n",
            "Arjun 70 98 63\n",
            "Malika 52 56 60\n",
            "Malika\n",
            "56.00\n"
          ]
        }
      ]
    },
    {
      "cell_type": "code",
      "metadata": {
        "colab": {
          "base_uri": "https://localhost:8080/"
        },
        "id": "NCxxqofyViFB",
        "outputId": "ecdf0821-f060-4c87-ae1b-83afe7e3513d"
      },
      "source": [
        "## Text Wrap\n",
        "# input: read a string and an integer value separated by a line\n",
        "# output: print the text wrap paragraph on the output screen\n",
        "\n",
        "import textwrap\n",
        "\n",
        "def textWrap(a_string, n):\n",
        "  wrapper = textwrap.TextWrapper(width=n)\n",
        "  dedented_text = textwrap.dedent(text=a_string)\n",
        "  result = wrapper.fill(text=dedented_text)\n",
        "  return result\n",
        "\n",
        "# print(textWrap(input(), int(input())))\n",
        "\n",
        "##### ORRR ######\n",
        "def textWrap2(a_string, n):\n",
        "  return \"\\n\".join([a_string[i:i+n] for i in range(0, len(a_string), n)])\n",
        "\n",
        "# print(textWrap2(input(), int(input())))"
      ],
      "execution_count": null,
      "outputs": [
        {
          "output_type": "stream",
          "name": "stdout",
          "text": [
            "ABCDEFGHIJKLIMNOQRSTUVWXYZ\n",
            "4\n",
            "ABCD\n",
            "EFGH\n",
            "IJKL\n",
            "IMNO\n",
            "QRST\n",
            "UVWX\n",
            "YZ\n"
          ]
        }
      ]
    },
    {
      "cell_type": "code",
      "metadata": {
        "colab": {
          "base_uri": "https://localhost:8080/"
        },
        "id": "EI_LE70AjtZr",
        "outputId": "3ab4d1de-a044-41c1-828e-84e06365a825"
      },
      "source": [
        "## Tuple\n",
        "# input: read two lines containing integers and a number of integers\n",
        "# output: print the hash of this integer on the output screen\n",
        "\n",
        "def tupleHashing(n, a_str):\n",
        "  a_int = list(map(int, a_str.split()))\n",
        "  return hash(tuple(a_int))\n",
        "\n",
        "print(tupleHashing(int(input()), input()))"
      ],
      "execution_count": null,
      "outputs": [
        {
          "output_type": "stream",
          "name": "stdout",
          "text": [
            "2\n",
            "1 2\n",
            "3713081631934410656\n"
          ]
        }
      ]
    },
    {
      "cell_type": "code",
      "metadata": {
        "colab": {
          "base_uri": "https://localhost:8080/"
        },
        "id": "VrPFkEdtle8G",
        "outputId": "008a74c1-704b-45e4-ecfd-d221fadb9f9b"
      },
      "source": [
        "## Hackerank List\n",
        "# task: take an integer input and then perform a bunch of tasks on the linked list\n",
        "# occurance: insert a value at index i. print the list, delete the first occurrence of an integer, insert an integer at the end of the linked list, \n",
        "#             sort the list, pop the last element of the list and reverse the list.\n",
        "\n",
        "N = int(input())\n",
        "instruction = []\n",
        "conv = []\n",
        "for _ in range(N):\n",
        "  instruction.append(input())\n",
        "for i in range(len(instruction)):\n",
        "  temp = instruction[i].split()\n",
        "  if temp[0] == 'insert':\n",
        "    conv.insert(int(temp[2]),int(temp[1]))\n",
        "  elif temp[0] == 'print':\n",
        "    print(conv)\n",
        "  elif temp[0] == 'remove':\n",
        "    conv.remove(int(temp[1]))\n",
        "  elif temp[0] == 'append':\n",
        "    conv.append(int(temp[1]))\n",
        "  elif temp[0] == 'sort':\n",
        "    conv.sort()\n",
        "  elif temp[0] == 'pop':\n",
        "    conv.pop()\n",
        "  elif temp[0] == 'reverse':\n",
        "    conv.reverse()"
      ],
      "execution_count": null,
      "outputs": [
        {
          "output_type": "stream",
          "name": "stdout",
          "text": [
            "4\n",
            "append 1\n",
            "append 2\n",
            "insert 3 1\n",
            "print\n",
            "[1, 3, 2]\n"
          ]
        }
      ]
    },
    {
      "cell_type": "code",
      "metadata": {
        "colab": {
          "base_uri": "https://localhost:8080/"
        },
        "id": "4_KfY0sNrYK7",
        "outputId": "58bafe1c-9d5e-4c57-9f03-40e5b618badf"
      },
      "source": [
        "## String formatting\n",
        "# input: n number\n",
        "# output: print out the binary, decimal, hexadecimal and octal number\n",
        "\n",
        "def stringFormatting(n):\n",
        "  align = len(bin(n)) - 2\n",
        "  for _ in range(1, n+1):\n",
        "    print(\"{d:>4} {h:>4} {o:>4} {b:>4}\".format(\n",
        "        d = _,\n",
        "        h = hex(_).replace(\"0x\",\"\"),\n",
        "        o = oct(_).replace(\"0o\",\"\"),\n",
        "        b = bin(_).replace(\"0b\",\"\"),\n",
        "    ))\n",
        "\n",
        "stringFormatting(int(input()))\n",
        "\n",
        "print(\" \")\n",
        "#### ORR #####\n",
        "N = int(input())\n",
        "l = len(bin(N)) - 2\n",
        "\n",
        "for i in range(1, N + 1):\n",
        "    f = \"\"\n",
        "    for c in \"doXb\":\n",
        "        if f:\n",
        "            f += \" \"\n",
        "        f += \"{:>\" + str(l) + c + \"}\"\n",
        "    print(f.format(i, i, i, i))"
      ],
      "execution_count": null,
      "outputs": [
        {
          "output_type": "stream",
          "name": "stdout",
          "text": [
            "14\n",
            "   1    1    1    1\n",
            "   2    2    2   10\n",
            "   3    3    3   11\n",
            "   4    4    4  100\n",
            "   5    5    5  101\n",
            "   6    6    6  110\n",
            "   7    7    7  111\n",
            "   8    8   10 1000\n",
            "   9    9   11 1001\n",
            "  10    a   12 1010\n",
            "  11    b   13 1011\n",
            "  12    c   14 1100\n",
            "  13    d   15 1101\n",
            "  14    e   16 1110\n",
            " \n",
            "14\n",
            "   1    1    1    1\n",
            "   2    2    2   10\n",
            "   3    3    3   11\n",
            "   4    4    4  100\n",
            "   5    5    5  101\n",
            "   6    6    6  110\n",
            "   7    7    7  111\n",
            "   8   10    8 1000\n",
            "   9   11    9 1001\n",
            "  10   12    A 1010\n",
            "  11   13    B 1011\n",
            "  12   14    C 1100\n",
            "  13   15    D 1101\n",
            "  14   16    E 1110\n"
          ]
        }
      ]
    },
    {
      "cell_type": "code",
      "metadata": {
        "colab": {
          "base_uri": "https://localhost:8080/"
        },
        "id": "7QdCjmeNR9rx",
        "outputId": "a9371a2d-ccf0-4ce5-c0a1-76436b9819be"
      },
      "source": [
        "### Merge Tools\n",
        "# input: take a string and an integer as an input separated with each line\n",
        "# output: print all the subsequence on the output screen\n",
        "\n",
        "def MergeTools(a_str, k):\n",
        "  d = {}\n",
        "  new_str = [\"\".join(list(a_str[i:i+k])) for i in range(0, len(a_str), k)]\n",
        "  for i, el in enumerate(new_str):\n",
        "    temp = []\n",
        "    for j in range(len(el)):\n",
        "      if j == 0 or el[j] not in temp:\n",
        "        temp.append(el[j])\n",
        "      else:\n",
        "        continue\n",
        "    d[i] = temp\n",
        "  return \"\\n\".join([r for r in [\"\".join(c) for c in d.values()]])\n",
        "\n",
        "### ORR ##\n",
        "def MergeTheTools(a_str, k):\n",
        "  for part in zip(*[iter(a_str)] * k):\n",
        "    d = {}\n",
        "    print(''.join([d.setdefault(c,c) for c in part if c not in d]))\n",
        "\n",
        "k = 3\n",
        "a_string = 'AABCAAADA'\n",
        "print(MergeTools(a_string, k))\n",
        "print()\n",
        "MergeTheTools(a_string, k)"
      ],
      "execution_count": null,
      "outputs": [
        {
          "output_type": "stream",
          "name": "stdout",
          "text": [
            "AB\n",
            "CA\n",
            "AD\n",
            "\n",
            "AB\n",
            "CA\n",
            "AD\n"
          ]
        }
      ]
    },
    {
      "cell_type": "code",
      "metadata": {
        "colab": {
          "base_uri": "https://localhost:8080/"
        },
        "id": "UVgpt0ITzVEO",
        "outputId": "0d4391f3-227f-4633-8f69-089724fac113"
      },
      "source": [
        "## Itertools Product \n",
        "# read two lists separated on each line\n",
        "# print the all possible product on the output screen.\n",
        "\n",
        "from itertools import product\n",
        "\n",
        "a = map(int, input().split())\n",
        "b = map(int, input().split())\n",
        "\n",
        "print(*product(a, b))\n",
        "\n",
        "### ORR \n",
        "\n",
        "from itertools import product\n",
        "\n",
        "a = list(map(int, input().split()))\n",
        "b = list(map(int, input().split()))\n",
        "\n",
        "print(*product(a,b))"
      ],
      "execution_count": null,
      "outputs": [
        {
          "output_type": "stream",
          "name": "stdout",
          "text": [
            "1 2 3\n",
            "3 4 5\n",
            "(1, 3) (1, 4) (1, 5) (2, 3) (2, 4) (2, 5) (3, 3) (3, 4) (3, 5)\n"
          ]
        }
      ]
    },
    {
      "cell_type": "code",
      "metadata": {
        "colab": {
          "base_uri": "https://localhost:8080/"
        },
        "id": "10hDoh-g0Pd4",
        "outputId": "51f9d792-9fa9-4de1-d8ef-8a468b12daa6"
      },
      "source": [
        "## Itertools \n",
        "\n",
        "import itertools\n",
        "\n",
        "#### Infinite Itertools #####\n",
        "\n",
        "# for i in itertools.count(5,5):\n",
        "#   if i == 35:\n",
        "#     break\n",
        "#   else:\n",
        "#     print(i, end=\" \")\n",
        "\n",
        "# count = 0\n",
        "# for i in itertools.count(5):\n",
        "#   if count == 5:\n",
        "#     break\n",
        "#   else:\n",
        "#     print(i, end=\" \")\n",
        "#     count += 1\n",
        "\n",
        "# count = 0\n",
        "# for i in itertools.cycle(\"AB\"):\n",
        "#   if count >= 7:\n",
        "#     break\n",
        "#   else:\n",
        "#     print(i, end=\" \")\n",
        "#     count += 1\n",
        "\n",
        "# l = ['Geeks', 'for', 'Geeks']\n",
        "# iterators = itertools.cycle(l)\n",
        "# for i in range(6):\n",
        "#   print(next(iterators), end=\" \")\n",
        "\n",
        "# print(list(itertools.repeat(25, 4)))\n",
        "\n",
        "#### Combinatoric Itertools #####\n",
        "\n",
        "from itertools import product\n",
        "from itertools import permutations\n",
        "from itertools import combinations\n",
        "\n",
        "\n",
        "print(\"The cartesian product using repeat:\")\n",
        "print(list(product([1, 2], repeat = 2)))\n",
        "print(\"The cartesian product of the containers:\")\n",
        "print(list(product(['geeks', 'for', 'geeks'], '2')))\n",
        "print(\"The cartesian product of the containers:\")\n",
        "print(list(product('AB', [3, 4])))\n",
        "\n",
        "print()\n",
        "\n",
        "print(\"All the permutations of the given list is:\") \n",
        "print(list(permutations([1, 'geeks'], 2)))\n",
        "print(\"All the permutations of the given string is:\") \n",
        "print(list(permutations('AB')))\n",
        "print(\"All the permutations of the given container is:\") \n",
        "print(list(permutations(range(3), 2)))\n",
        "\n",
        "print()\n",
        "\n",
        "print(\"All the combination of list in sorted order(without replacement) is:\") \n",
        "print(list(combinations(['A', 2], 2)))\n",
        "print(\"All the combination of string in sorted order(without replacement) is:\")\n",
        "print(list(combinations('AB', 2)))\n",
        "print(\"All the combination of list in sorted order(without replacement) is:\")\n",
        "print(list(combinations(range(2), 1)))"
      ],
      "execution_count": null,
      "outputs": [
        {
          "output_type": "stream",
          "name": "stdout",
          "text": [
            "The cartesian product using repeat:\n",
            "[(1, 1), (1, 2), (2, 1), (2, 2)]\n",
            "The cartesian product of the containers:\n",
            "[('geeks', '2'), ('for', '2'), ('geeks', '2')]\n",
            "The cartesian product of the containers:\n",
            "[('A', 3), ('A', 4), ('B', 3), ('B', 4)]\n",
            "\n",
            "All the permutations of the given list is:\n",
            "[(1, 'geeks'), ('geeks', 1)]\n",
            "All the permutations of the given string is:\n",
            "[('A', 'B'), ('B', 'A')]\n",
            "All the permutations of the given container is:\n",
            "[(0, 1), (0, 2), (1, 0), (1, 2), (2, 0), (2, 1)]\n",
            "\n",
            "All the combination of list in sorted order(without replacement) is:\n",
            "[('A', 2)]\n",
            "All the combination of string in sorted order(without replacement) is:\n",
            "[('A', 'B')]\n",
            "All the combination of list in sorted order(without replacement) is:\n",
            "[(0,), (1,)]\n"
          ]
        }
      ]
    },
    {
      "cell_type": "code",
      "metadata": {
        "id": "B3WSS44dLk1v",
        "colab": {
          "base_uri": "https://localhost:8080/"
        },
        "outputId": "d2e83074-0e08-451a-fafb-77769f552d73"
      },
      "source": [
        "### Designer Door mat\n",
        "# read two integers separated by space\n",
        "# print a design pattern that contains a WELCOME message in between it.\n",
        "\n",
        "def DoorMat(n, k):\n",
        "  pattern = []\n",
        "  for i in range(n//2):\n",
        "    pattern.append(('.|.'*(2*i + 1)).center(k, '-'))\n",
        "  print('\\n'.join(pattern + ['WELCOME'.center(k, '-')] + pattern[::-1]))\n",
        "\n",
        "n = 7\n",
        "k = 21\n",
        "DoorMat(n, k)"
      ],
      "execution_count": 152,
      "outputs": [
        {
          "output_type": "stream",
          "name": "stdout",
          "text": [
            "---------.|.---------\n",
            "------.|..|..|.------\n",
            "---.|..|..|..|..|.---\n",
            "-------WELCOME-------\n",
            "---.|..|..|..|..|.---\n",
            "------.|..|..|.------\n",
            "---------.|.---------\n"
          ]
        }
      ]
    },
    {
      "cell_type": "code",
      "metadata": {
        "id": "D9_Kc30rjKWS",
        "colab": {
          "base_uri": "https://localhost:8080/"
        },
        "outputId": "e962aea7-f3ca-45dd-aafd-ebedc3a445b7"
      },
      "source": [
        "## Alphabet Rangoli\n",
        "# input: int, n\n",
        "# output: pattern\n",
        "\n",
        "import string\n",
        "\n",
        "def alphabetRangoli(n):\n",
        "  print()\n",
        "  a_str = string.ascii_lowercase\n",
        "  data = [a_str[i] for i in range(n)]\n",
        "  items = list(range(n))\n",
        "  new_items = items[:-1] + items[::-1]\n",
        "  for i in new_items:\n",
        "    temp = data[-(i+1):]\n",
        "    row = temp[::-1] + temp[1:]\n",
        "    print(\"-\".join(row).center(n*4-3, \"-\"))\n",
        "\n",
        "alphabetRangoli(int(input()))"
      ],
      "execution_count": 59,
      "outputs": [
        {
          "output_type": "stream",
          "name": "stdout",
          "text": [
            "3\n",
            "\n",
            "----c----\n",
            "--c-b-c--\n",
            "c-b-a-b-c\n",
            "--c-b-c--\n",
            "----c----\n"
          ]
        }
      ]
    },
    {
      "cell_type": "code",
      "metadata": {
        "colab": {
          "base_uri": "https://localhost:8080/"
        },
        "id": "yj_Qyni9F5Qf",
        "outputId": "145324f7-d44e-4a20-f305-5113bb6cfbab"
      },
      "source": [
        "## Minion Game\n",
        "\n",
        "from itertools import permutations\n",
        "\n",
        "def minionGame(a_str):\n",
        "  total = {\n",
        "      \"Kevin\":[],\n",
        "      \"Stuart\":[]\n",
        "  }\n",
        "  possibility = {}\n",
        "  start_k = []\n",
        "  start_s = []\n",
        "  vowels = list('aiueo'.upper())\n",
        "  result = ''\n",
        "\n",
        "  for i in range(1, len(a_str)+1):\n",
        "    possibility[i] = [\"\".join(c) for c in list(set(permutations(a_str, i)))]\n",
        "\n",
        "  for key, values in possibility.items():\n",
        "    for val in values:\n",
        "      if len(val) == 1:\n",
        "        if val in vowels:\n",
        "          start_k.append(val)\n",
        "          total.get('Kevin').append(val)\n",
        "        else:\n",
        "          start_s.append(val)\n",
        "          total.get('Stuart').append(val)\n",
        "      elif val in a_str:\n",
        "        if val[0] in start_k:\n",
        "          total.get('Kevin').append(val)\n",
        "        elif val[0] in start_s:\n",
        "          total.get('Stuart').append(val)\n",
        "        else:\n",
        "          continue\n",
        "      else:\n",
        "        continue\n",
        "  \n",
        "  length = 0\n",
        "  for key, value in total.items():\n",
        "    if len(value) > length:\n",
        "      length = len(value)\n",
        "      result = \"{0} {1}\".format(key, length)\n",
        "\n",
        "  return result\n",
        "\n",
        "print(minionGame('BANANA'))\n",
        "\n",
        "#### LEBIH TEPAT ####\n",
        "def minionGame2(a_str):\n",
        "  vowels = list('AIUEO')\n",
        "  Stuart_score, Kevin_score = 0, 0\n",
        "  length = len(a_str)\n",
        "  for start_idx in range(length):\n",
        "    score = length - start_idx\n",
        "    if a_str[start_idx] in vowels:\n",
        "      Kevin_score += score\n",
        "    else:\n",
        "      Stuart_score += score\n",
        "  if Stuart_score == Kevin_score:\n",
        "    print('Draw')\n",
        "  if Stuart_score > Kevin_score:\n",
        "    print('Stuart {}'.format(Stuart_score))\n",
        "  if Stuart_score < Kevin_score:\n",
        "    print('Kevin {}'.format(Kevin_score))\n",
        "\n",
        "minionGame2('BANANA')"
      ],
      "execution_count": 137,
      "outputs": [
        {
          "output_type": "stream",
          "name": "stdout",
          "text": [
            "Stuart 10\n",
            "Stuart 12\n"
          ]
        }
      ]
    },
    {
      "cell_type": "code",
      "metadata": {
        "id": "v83p9O2_b0KR"
      },
      "source": [
        ""
      ],
      "execution_count": null,
      "outputs": []
    }
  ]
}