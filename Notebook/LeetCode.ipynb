{
  "nbformat": 4,
  "nbformat_minor": 0,
  "metadata": {
    "colab": {
      "name": "LeetCode.ipynb",
      "provenance": [],
      "collapsed_sections": []
    },
    "kernelspec": {
      "name": "python3",
      "display_name": "Python 3"
    },
    "language_info": {
      "name": "python"
    }
  },
  "cells": [
    {
      "cell_type": "code",
      "metadata": {
        "id": "j0Pq8zQhMc5W"
      },
      "source": [
        "# https://github.com/eherrerosj/mle-tech-interviews/tree/master/data-structure-challenges/leetcode"
      ],
      "execution_count": null,
      "outputs": []
    },
    {
      "cell_type": "code",
      "metadata": {
        "id": "kUQuwSOKT9k0"
      },
      "source": [
        "## timer\n",
        "import functools\n",
        "import time\n",
        "\n",
        "def timer(func):\n",
        "  @functools.wraps(func)\n",
        "  def wrapper_timer(*args, **kwargs):\n",
        "    tic = time.perf_counter()\n",
        "    value = func(*args, **kwargs)\n",
        "    toc = time.perf_counter()\n",
        "    elapsed_time = toc - tic\n",
        "    print(f\"\\nElapsed time: {elapsed_time:0.4f} seconds\")\n",
        "    return value\n",
        "  return wrapper_time"
      ],
      "execution_count": null,
      "outputs": []
    },
    {
      "cell_type": "code",
      "metadata": {
        "colab": {
          "base_uri": "https://localhost:8080/"
        },
        "id": "dDgzx57kMlDh",
        "outputId": "6182fe66-1c2e-4244-83e7-25a368b59499"
      },
      "source": [
        "## Two Sum\n",
        "nums = [2,7,11,15]\n",
        "target = 9\n",
        "\n",
        "from typing import List\n",
        "\n",
        "class Solution:\n",
        "  def naiveTwoSum(self, nums: List[int], target: int) -> List[int]:\n",
        "    ## Search first element in array\n",
        "    for i in range(len(nums) - 1):\n",
        "      ## Search for other element in array\n",
        "      for j in range(i+1, len(nums)):\n",
        "        ## If these two elements sum to target, print the pair index\n",
        "        if nums[i] + nums[j] == target:\n",
        "          return [i, j]\n",
        "\n",
        "\n",
        "  def twoSum(self, nums: List[int], target: int) -> List[int]:\n",
        "    \"Single-pass hashmap, TC O(n), SC O(n)\"\n",
        "    hmap = {}\n",
        "    for i, num in enumerate(nums):\n",
        "      complement = target - num\n",
        "      if complement in hmap:\n",
        "        return [i, hmap[complement]]\n",
        "      hmap[num] = i\n",
        "  \n",
        "  def twoSum2(self, nums: List[int], target: int) -> List[int]:\n",
        "    \"Refactor code\"\n",
        "    required = {}\n",
        "    for i in range(len(nums)):\n",
        "      if target - nums[i] in required:\n",
        "        return [i, required.get(target - nums[i])]\n",
        "      else:\n",
        "        required[nums[i]] = i\n",
        "\n",
        "sol = Solution().naiveTwoSum([2, 7, 11, 15], 9)\n",
        "print(set(sol) == set([0, 1]))\n",
        "\n",
        "sol = Solution().twoSum([3, 2, 4], 6)\n",
        "print(set(sol) == set([1, 2]))\n",
        "\n",
        "sol = Solution().twoSum2([-2, 7, 11, 15], 5)\n",
        "print(set(sol) == set([0, 1]))"
      ],
      "execution_count": null,
      "outputs": [
        {
          "output_type": "stream",
          "name": "stdout",
          "text": [
            "True\n",
            "True\n",
            "True\n"
          ]
        }
      ]
    },
    {
      "cell_type": "code",
      "metadata": {
        "id": "M_-Ooh6bSM9B"
      },
      "source": [
        "## Pascal Triangle\n",
        "\n",
        "from typing import List\n",
        "\n",
        "input = 5\n",
        "\n",
        "class Solution:\n",
        "  def generate(self, numRows:int) -> List[List[int]]:\n",
        "    pass\n",
        "\n",
        "sol = Solution()"
      ],
      "execution_count": null,
      "outputs": []
    },
    {
      "cell_type": "code",
      "metadata": {
        "colab": {
          "base_uri": "https://localhost:8080/"
        },
        "id": "kVh4jOGFZU4W",
        "outputId": "c8d85b82-10ef-4659-e042-e69e4c873603"
      },
      "source": [
        "## Best time to buy and sell\n",
        "\n",
        "from typing import List\n",
        "\n",
        "class Solution:\n",
        "  def naiveMaxProfit(self, prices: List[int]) -> int:\n",
        "    max = 0\n",
        "    for i in range(len(prices)):\n",
        "      for j in range(i+1, len(prices)):\n",
        "        if prices[j] - prices[i] > max:\n",
        "          max = prices[j] - prices[i]\n",
        "    return max\n",
        "  \n",
        "  def maxProfit2(self, prices: List[int]) -> int:\n",
        "    minPrice = None\n",
        "    maxProfit = 0\n",
        "    for price in prices:\n",
        "      ## intention mencari terkecil\n",
        "      if (minPrice is None) or (minPrice > price): \n",
        "        minPrice = price\n",
        "      elif price - minPrice > maxProfit:\n",
        "        maxProfit = price - minPrice\n",
        "    return maxProfit\n",
        "\n",
        "sol = Solution().naiveMaxProfit([7,1,5,3,6,4])\n",
        "print(sol == 5)\n",
        "sol = Solution().naiveMaxProfit([7,6,4,3,1])\n",
        "print(sol == 0)\n",
        "\n",
        "print()\n",
        "\n",
        "sol = Solution().maxProfit2([7,1,5,3,6,4])\n",
        "print(sol == 5)\n",
        "sol = Solution().maxProfit2([7,6,4,3,1])\n",
        "print(sol == 0)"
      ],
      "execution_count": null,
      "outputs": [
        {
          "output_type": "stream",
          "name": "stdout",
          "text": [
            "True\n",
            "True\n",
            "\n",
            "True\n",
            "True\n"
          ]
        }
      ]
    },
    {
      "cell_type": "code",
      "metadata": {
        "colab": {
          "base_uri": "https://localhost:8080/"
        },
        "id": "AKix8eIia95E",
        "outputId": "05652c8e-e324-4cbf-c447-f5c81281861f"
      },
      "source": [
        "## Maximum Subarray\n",
        "## https://www.youtube.com/watch?v=86CQq3pKSUw (Kadane Algorithm)\n",
        "\n",
        "## We can use brute force solution, or naive solution, but TC O(n^2)\n",
        "\n",
        "from typing import List\n",
        "\n",
        "class Solution:\n",
        "  def maxSubArray(self, nums: List[int]) -> int:\n",
        "    sol = curmax = nums[0]\n",
        "    if len(nums) == 1:\n",
        "      return sol\n",
        "    for i in range(1, len(nums)):\n",
        "      curmax = max(nums[i], curmax + nums[i])\n",
        "      sol = max(curmax, sol)\n",
        "    return sol\n",
        "\n",
        "sol = Solution().maxSubArray([-2,1,-3,4,-1,2,1,-5,4])\n",
        "print(sol == 6)"
      ],
      "execution_count": null,
      "outputs": [
        {
          "output_type": "stream",
          "name": "stdout",
          "text": [
            "True\n"
          ]
        }
      ]
    },
    {
      "cell_type": "code",
      "metadata": {
        "id": "607N2-y9gk6L",
        "colab": {
          "base_uri": "https://localhost:8080/"
        },
        "outputId": "1f7e3980-85b2-4e3c-d812-b7b1446a21cd"
      },
      "source": [
        "### Subarray sum of K\n",
        "from typing import List\n",
        "\n",
        "class Solution:\n",
        "  def subarraySum(self, nums: List[int], k: int) -> int:\n",
        "    hmap = {0:1}\n",
        "    cumsum = 0\n",
        "    for i, v in enumerate(nums):\n",
        "      cumsum += v\n",
        "      if cumsum not in hmap.keys():\n",
        "        hmap[cumsum] = hmap.get(cumsum,0) + 1\n",
        "    print(hmap)\n",
        "\n",
        "sol = Solution().subarraySum([1, 1, 1], 2)\n",
        "print(sol)"
      ],
      "execution_count": 3,
      "outputs": [
        {
          "output_type": "stream",
          "name": "stdout",
          "text": [
            "{0: 1, 1: 1, 2: 1, 3: 1}\n",
            "None\n"
          ]
        }
      ]
    },
    {
      "cell_type": "code",
      "metadata": {
        "id": "NGQABccol8kL",
        "colab": {
          "base_uri": "https://localhost:8080/"
        },
        "outputId": "897e199e-b975-4e1d-b91e-3dfb550d9a79"
      },
      "source": [
        "## Valid Palindrome 2\n",
        "\n",
        "class Solution:\n",
        "  def validPalindrome(self, s: str) -> bool:\n",
        "    s_len = len(s)\n",
        "    left  = 0\n",
        "    right = s_len - 1\n",
        "\n",
        "    if s_len < 3:\n",
        "      return True\n",
        "\n",
        "    ## two pointer technique can't be improved\n",
        "    ## switch only one, left or right\n",
        "    while left < right:\n",
        "      if s[right] != s[left]:\n",
        "        delete_l = s[left + 1 : right + 1]\n",
        "        delete_r = s[left : right]\n",
        "        return delete_l == delete_l[::-1]\n",
        "      left += 1\n",
        "      right -= 1\n",
        "    return True\n",
        "\n",
        "sol = Solution().validPalindrome(s=\"abca\")\n",
        "print(sol is True)"
      ],
      "execution_count": 4,
      "outputs": [
        {
          "output_type": "stream",
          "name": "stdout",
          "text": [
            "True\n"
          ]
        }
      ]
    },
    {
      "cell_type": "code",
      "metadata": {
        "id": "5nrNOmW9Rbeg",
        "colab": {
          "base_uri": "https://localhost:8080/"
        },
        "outputId": "3f7ee1f0-0a61-419d-bfb3-79c1da294c97"
      },
      "source": [
        "## Find position of element in sorted array of infinite number\n",
        "\n",
        "# binary search algorithm implementation\n",
        "def binary_search(arr, l, r, x):\n",
        "  if r >= l:\n",
        "    mid = l + (r-l) // 2\n",
        "    if arr[mid] == x:\n",
        "      return mid\n",
        "    elif arr[mid] > x:\n",
        "      return binary_search(arr, l, mid-1, x)\n",
        "    else:\n",
        "      return binary_search(arr, mid+1, r, x)\n",
        "  return -1\n",
        "\n",
        "def findPos(arr, key):\n",
        "  l, h, val = 0, 1, arr[0]\n",
        "  ## keep re-assigning new start and stop\n",
        "  while val < key:\n",
        "    l = h\n",
        "    h = 2 * h\n",
        "    val = arr[h]\n",
        "  return binary_search(arr, l, h, key)\n",
        "\n",
        "arr = [3, 5, 7, 9, 10, 90, 100, 130, 140, 160, 170]\n",
        "ans = findPos(arr,10)\n",
        "if ans == -1:\n",
        "    print (\"Element not found\")\n",
        "else:\n",
        "    print(\"Element found at index\",ans)"
      ],
      "execution_count": null,
      "outputs": [
        {
          "output_type": "stream",
          "name": "stdout",
          "text": [
            "Element found at index 4\n"
          ]
        }
      ]
    },
    {
      "cell_type": "code",
      "metadata": {
        "id": "l0le7-tHaoX9",
        "colab": {
          "base_uri": "https://localhost:8080/"
        },
        "outputId": "33c8897c-5d82-4ac7-d093-67e1b9286d8a"
      },
      "source": [
        "### Three Sum Problem must equal to zero\n",
        "from typing import List\n",
        "\n",
        "class Solution:\n",
        "  def threeSum(self, nums: List[int]) -> List[List[int]]:\n",
        "    nums.sort()\n",
        "    print(f\"nums: {nums}\")\n",
        "    hmap = {}\n",
        "    sols = set()\n",
        "\n",
        "    if len(nums) < 3:\n",
        "      return []\n",
        "    \n",
        "    for i, num in enumerate(nums):\n",
        "      hmap[num] = i\n",
        "    \n",
        "    for i, num1 in enumerate(nums):\n",
        "      for j, num2 in enumerate(nums):\n",
        "        ## buat ngunci, sequence index 1 ke 2 dst dst\n",
        "        if j <= i:\n",
        "          continue\n",
        "        complement = -(num1 + num2)\n",
        "        ## hmap[complement] > j agar concecutive, dpt diatas j\n",
        "        if complement in hmap and hmap[complement] > j:\n",
        "          sols.add((num1, num2, complement))\n",
        "    return list(sols)\n",
        "\n",
        "sol = Solution().threeSum([-1, 0, 1, 2, -1, -4])\n",
        "print(sol)"
      ],
      "execution_count": 15,
      "outputs": [
        {
          "output_type": "stream",
          "name": "stdout",
          "text": [
            "nums: [-4, -1, -1, 0, 1, 2]\n",
            "[(-1, -1, 2), (-1, 0, 1)]\n"
          ]
        }
      ]
    },
    {
      "cell_type": "code",
      "metadata": {
        "colab": {
          "base_uri": "https://localhost:8080/"
        },
        "id": "T9WEQ1Zw-kT0",
        "outputId": "5b13998e-78bb-4c51-a014-b02ba9c5d4c4"
      },
      "source": [
        "### Maximum product array (contiguous)\n",
        "## dynamic programming , masih bingung\n",
        "\n",
        "from typing import List\n",
        "\n",
        "class Solution:\n",
        "  def maxProduct(self, nums: List[int]) -> int:\n",
        "    print(f\"nums : {nums}\")\n",
        "    prefix = suffix = 0\n",
        "    global_max = float(\"-inf\")\n",
        "    for i in range(len(nums)):\n",
        "      prefix = (prefix or 1) * nums[i]\n",
        "      suffix = (suffix or 1) * nums[~i]\n",
        "      global_max = max(prefix, suffix, global_max)\n",
        "    return global_max\n",
        "\n",
        "sol = Solution().maxProduct([2, 3, -2, 4])\n",
        "print(sol)"
      ],
      "execution_count": 27,
      "outputs": [
        {
          "output_type": "stream",
          "name": "stdout",
          "text": [
            "nums : [2, 3, -2, 4]\n",
            "6\n"
          ]
        }
      ]
    },
    {
      "cell_type": "code",
      "metadata": {
        "colab": {
          "base_uri": "https://localhost:8080/"
        },
        "id": "7kccAoeaFGu2",
        "outputId": "ed47661a-743d-4641-9e4f-9cf714f21786"
      },
      "source": [
        "## Product array except self\n",
        "from typing import List\n",
        "\n",
        "class Solution:\n",
        "  def productExceptSelf(self, nums: List[int]) -> List[int]:\n",
        "    nums_len = len(nums)\n",
        "    leftarr = [1] * nums_len\n",
        "    rightarr = [1] * nums_len\n",
        "    sol = [1] * nums_len\n",
        "    \n",
        "    for idx in range(nums_len):\n",
        "      if idx == 0:\n",
        "        continue\n",
        "      leftarr[idx] = leftarr[idx - 1] * nums[idx - 1]\n",
        "    \n",
        "    for idx in range(nums_len, 0, -1):\n",
        "      if idx == nums_len:\n",
        "        continue\n",
        "      rightarr[idx - 1] = rightarr[idx] * nums[idx]\n",
        "    \n",
        "    for i in range(len(nums)):\n",
        "      sol[i] = leftarr[i] * rightarr[i]\n",
        "\n",
        "    return sol\n",
        "\n",
        "sol = Solution().productExceptSelf([2, 3, 4])\n",
        "print(sol == [12, 8, 6])"
      ],
      "execution_count": 31,
      "outputs": [
        {
          "output_type": "stream",
          "name": "stdout",
          "text": [
            "True\n"
          ]
        }
      ]
    },
    {
      "cell_type": "code",
      "metadata": {
        "colab": {
          "base_uri": "https://localhost:8080/"
        },
        "id": "SJ5fjLK-K9BR",
        "outputId": "93d1375a-1ceb-400b-d14b-f80cbe9dee72"
      },
      "source": [
        "## Kth missing positive number\n",
        "# Example 1:\n",
        "# Input: arr = [2,3,4,7,11], k = 5\n",
        "# Output: 9\n",
        "# Explanation: The missing positive integers are [1,5,6,8,9,10,12,13,...]. \n",
        "# The 5th missing positive integer is 9.\n",
        "# gak paham\n",
        "\n",
        "from typing import List\n",
        "\n",
        "class Solution:\n",
        "  def findKthPositive(self, arr: List[int], k: int) -> int:\n",
        "    left, right = 0, len(arr) - 1\n",
        "    while left <= right:\n",
        "      pivot = (left + right) // 2\n",
        "      if arr[pivot] - pivot - 1 < k:\n",
        "        left = pivot + 1\n",
        "      else:\n",
        "        right = pivot - 1\n",
        "    return left + k\n",
        "\n",
        "sol = Solution().findKthPositive(arr=[2, 3, 4, 7, 11], k=5)\n",
        "print(sol == 9)"
      ],
      "execution_count": 32,
      "outputs": [
        {
          "output_type": "stream",
          "name": "stdout",
          "text": [
            "True\n"
          ]
        }
      ]
    },
    {
      "cell_type": "code",
      "metadata": {
        "colab": {
          "base_uri": "https://localhost:8080/"
        },
        "id": "eb04xDRwwE1y",
        "outputId": "5a97f4a1-63d6-4792-ae8b-c443596ccee4"
      },
      "source": [
        "### Minimum size subarray sum\n",
        "\n",
        "\"\"\"\n",
        "Given an array of positive integers nums and a positive integer target,\n",
        "return the minimal length of a contiguous subarray [numsl, numsl+1, ...,\n",
        "numsr-1, numsr] of which the sum is greater than or equal to target.\n",
        "If there is no such subarray, return 0 instead.\n",
        "Example 1:\n",
        "Input: target = 7, nums = [2,3,1,2,4,3]\n",
        "Output: 2\n",
        "Explanation: The subarray [4,3] has the minimal length under the problem constraint.\n",
        "from typing import List\n",
        "\"\"\"\n",
        "\n",
        "class Solution:\n",
        "  def minSubArrayLen(self, target: int, nums: List[int]) -> int:\n",
        "    l = 0\n",
        "    res = float(\"inf\")\n",
        "    cursum = 0\n",
        "    for r in range(len(nums)):\n",
        "      cursum += nums[r]\n",
        "      while target <= cursum and l <= r:\n",
        "        res = min(res, r - l + 1)\n",
        "        cursum -= nums[l]\n",
        "        l += 1\n",
        "    return 0 if res == float(\"inf\") else res\n",
        "\n",
        "sol = Solution().minSubArrayLen(target=7, nums=[2, 3, 1, 2, 4, 3])\n",
        "print(sol == 2)"
      ],
      "execution_count": 33,
      "outputs": [
        {
          "output_type": "stream",
          "name": "stdout",
          "text": [
            "True\n"
          ]
        }
      ]
    },
    {
      "cell_type": "code",
      "metadata": {
        "id": "-_rljcAoxFSw"
      },
      "source": [
        ""
      ],
      "execution_count": null,
      "outputs": []
    }
  ]
}