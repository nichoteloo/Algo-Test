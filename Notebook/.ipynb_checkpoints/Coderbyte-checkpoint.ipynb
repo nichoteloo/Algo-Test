{
 "cells": [
  {
   "cell_type": "code",
   "execution_count": 1,
   "metadata": {},
   "outputs": [
    {
     "name": "stdout",
     "output_type": "stream",
     "text": [
      "nico\n",
      "ocin\n"
     ]
    }
   ],
   "source": [
    "### First reverse\n",
    "# Have the function FirstReverse(str) take the str parameter being passed and return the string in reversed order.\n",
    "# Use the Parameter Testing feature in the box below to test your code with different argument\n",
    "\n",
    "def FirstReverse(a_string):\n",
    "    return a_string[::-1]\n",
    "\n",
    "print(FirstReverse(input()))"
   ]
  },
  {
   "cell_type": "code",
   "execution_count": 2,
   "metadata": {},
   "outputs": [
    {
     "name": "stdout",
     "output_type": "stream",
     "text": [
      "4\n",
      "24\n"
     ]
    }
   ],
   "source": [
    "### first factorial (pake rekursif)\n",
    "# Have the function FirstFactorial(num) take the num parameter being passed and return the factorial of it\n",
    "#(ie. if num = 4, return (4 * 3 * 2 * 1)). For the test cases, the range will be between 1 and 18.\n",
    "# Use the Parameter Testing feature in the box below to test your code with different arguments.\n",
    "\n",
    "def FirstFactorial(num):\n",
    "    if num == 0:\n",
    "        return 1\n",
    "    else:\n",
    "        return FirstFactorial(num - 1) * num\n",
    "\n",
    "print(FirstFactorial(int(input())))"
   ]
  },
  {
   "cell_type": "code",
   "execution_count": 3,
   "metadata": {},
   "outputs": [
    {
     "name": "stdout",
     "output_type": "stream",
     "text": [
      "I love dogs\n",
      "love\n"
     ]
    }
   ],
   "source": [
    "## Longest word\n",
    "# Have the function LongestWord(sen) take the sen parameter being passed and return the largest word in the string.\n",
    "# If there are two or more words that are the same length, return the first word from the string with that length.\n",
    "# Ignore punctuation and assume sen will not be empty.\n",
    "import string\n",
    "\n",
    "# def LongestWord(sen):\n",
    "    \n",
    "#     new_sen = []\n",
    "#     for el in sen.split(\" \"):\n",
    "#         new_char = []\n",
    "#         for char in el:\n",
    "#             if char not in list(string.punctuation):\n",
    "#                 new_char.append(char)\n",
    "#         new_sen.append(new_char)\n",
    "    \n",
    "#     list_word = [\"\".join(x) for x in new_sen]\n",
    "    \n",
    "#     longest_word = ''\n",
    "#     for word in list_word:\n",
    "#         if len(word) > len(longest_word):\n",
    "#             longest_word = word\n",
    "            \n",
    "#     return longest_word\n",
    "\n",
    "# print(LongestWord(input()))\n",
    "\n",
    "########################## More simplify #################################\n",
    "def LongestWord(sen):\n",
    "    longest_word = ''\n",
    "    \n",
    "    for char in string.punctuation:\n",
    "        no_punct_sentence = sen.replace(char, \" \")\n",
    "    split_sentence = no_punct_sentence.split()\n",
    "    \n",
    "    for word in split_sentence:\n",
    "        if len(word) > len(longest_word):\n",
    "            longest_word = word\n",
    "            \n",
    "    return longest_word\n",
    "\n",
    "print(LongestWord(input()))"
   ]
  },
  {
   "cell_type": "code",
   "execution_count": 4,
   "metadata": {},
   "outputs": [
    {
     "name": "stdout",
     "output_type": "stream",
     "text": [
      "123 N anywhere street\n",
      "{'B': 2, 'C': 3, 'A': 1}\n"
     ]
    }
   ],
   "source": [
    "## replace value with dict reference, replace only work for string\n",
    "\n",
    "## 1\n",
    "address = \"123 north anywhere street\"\n",
    "for word, initial in {\"NORTH\":\"N\", \"SOUTH\":\"S\" }.items():\n",
    "    address = address.replace(word.lower(), initial)\n",
    "print(address)\n",
    "\n",
    "## 2\n",
    "a_dict = {\"a\": 1, \"B\": 2, \"C\": 3}\n",
    "old_key = 'a'\n",
    "a_dict[old_key.upper()] = a_dict.pop(old_key)\n",
    "print(a_dict)"
   ]
  },
  {
   "cell_type": "code",
   "execution_count": 5,
   "metadata": {},
   "outputs": [
    {
     "name": "stdout",
     "output_type": "stream",
     "text": [
      "abcdefgh\n",
      "bcdEfghI\n"
     ]
    }
   ],
   "source": [
    "## Letter changes\n",
    "## Have the function LetterChanges(str) take the str parameter being passed and modify it using the following algorithm. \n",
    "## Replace every letter in the string with the letter following it in the alphabet (ie. c becomes d, z becomes a). \n",
    "## Then capitalize every vowel in this new string (a, e, i, o, u) and finally return this modified string.\n",
    "from string import ascii_lowercase as al\n",
    "\n",
    "def LetterChanges(a_string):\n",
    "    letter = {letter: int(index) for index, letter in enumerate(al, start=1)}\n",
    "    new_string = []\n",
    "    for a in a_string:\n",
    "        new_index = letter[a] + 1\n",
    "        if new_index == 27:\n",
    "            new_index = 1\n",
    "        for key, value in letter.items():\n",
    "            if int(value) == new_index:\n",
    "                if key in 'aiueo':\n",
    "                    key = key.upper()\n",
    "                new_string.append(key)\n",
    "    return \"\".join(new_string)\n",
    "\n",
    "print(LetterChanges(input()))\n",
    "\n",
    "##### Cara Lain #######\n",
    "def LetterChanges2(a_string):\n",
    "    letters = 'abcdefghijklmnopqrstuvwxyz'\n",
    "    encoded_string = ''\n",
    "    for letter in a_string.lower():\n",
    "        if letter not in letters:\n",
    "            encoded_string += letter\n",
    "        elif letter == 'z':\n",
    "            encoded_string += 'a'\n",
    "        else:\n",
    "            index = letters.index(letter)\n",
    "            encoded_string += letters[index + 1]\n",
    "    capitalized_encoded = ''\n",
    "\n",
    "    for char in encoded_string:\n",
    "        if char in 'aeiou':\n",
    "            capitalized_encoded += char.upper()\n",
    "        else:\n",
    "            capitalized_encoded += char\n",
    "    return capitalized_encoded"
   ]
  },
  {
   "cell_type": "code",
   "execution_count": 6,
   "metadata": {},
   "outputs": [
    {
     "name": "stdout",
     "output_type": "stream",
     "text": [
      "3\n",
      "6\n",
      "3\n",
      "6\n"
     ]
    }
   ],
   "source": [
    "### Simple adding\n",
    "# Have the function SimpleAdding(num) add up all the numbers from 1 to num. For the test cases,\n",
    "# the parameter num will be any number from 1 to 1000.\n",
    "\n",
    "def SimpleAdding(num):\n",
    "    if num == 0:\n",
    "        return 0\n",
    "    else:\n",
    "        return SimpleAdding(num-1) + num\n",
    "\n",
    "def SimpleAdding2(num):\n",
    "    total = 0\n",
    "    for i in range(num+1):\n",
    "        total += i\n",
    "    return total\n",
    "    \n",
    "print(SimpleAdding(int(input())))\n",
    "print(SimpleAdding2(int(input())))"
   ]
  },
  {
   "cell_type": "code",
   "execution_count": 7,
   "metadata": {},
   "outputs": [
    {
     "name": "stdout",
     "output_type": "stream",
     "text": [
      "ya\n",
      "Ya\n"
     ]
    }
   ],
   "source": [
    "## Letter Capitalize\n",
    "# Have the function LetterCapitalize(str) take the str parameter being passed and capitalize the first letter of each\n",
    "# word. Words will be separated by only one space.\n",
    "\n",
    "def LetterCapitalize(sen):\n",
    "    capitalize = sen.title()\n",
    "    return capitalize\n",
    "\n",
    "print(LetterCapitalize(input()))"
   ]
  },
  {
   "cell_type": "code",
   "execution_count": 8,
   "metadata": {},
   "outputs": [
    {
     "name": "stdout",
     "output_type": "stream",
     "text": [
      "++d+===+c++==+a\n",
      "False\n"
     ]
    }
   ],
   "source": [
    "## Simple symbol\n",
    "# Have the function SimpleSymbols(str) take the str parameter being passed and determine if it is an acceptable sequence\n",
    "#  by either returning the string true or false. The str parameter will be composed of + and = symbols with several\n",
    "# letters between them (ie. ++d+===+c++==a) and for the string to be true each letter must be surrounded by a + symbol.\n",
    "# So the string to the left would be false. The string will not be empty and will have at least one letter.\n",
    "\n",
    "# def SimpleSymbol(sen):  ## masih salah sedikit\n",
    "#     condition = []\n",
    "#     for i, char in enumerate(sen):\n",
    "#         if char not in string.punctuation:\n",
    "#             before = (i-1)\n",
    "#             after = (i+1)\n",
    "#             if before == -1:\n",
    "#                 before = len(sen)-1\n",
    "#             elif after == len(sen):\n",
    "#                 after = 0\n",
    "#             if sen[before] == '+' and sen[after] == '+':\n",
    "#                 condition.append(1)\n",
    "#             else:\n",
    "#                 condition.append(0)\n",
    "#     if 0 in condition:\n",
    "#         return False\n",
    "#     else:\n",
    "#         return True\n",
    "\n",
    "# print(SimpleSymbol(input()))\n",
    "\n",
    "\n",
    "###### More Wisely ###### :)\n",
    "def SimpleSymbol2(str):\n",
    "    letters = 'abcdefghijklmnopqrstuvwxyz'\n",
    "    for num in range(len(str)):\n",
    "        if str[0] in letters or str[-1] in letters:\n",
    "            return False\n",
    "        elif str[num] in letters:\n",
    "            if str[num - 1] != \"+\" or str[num + 1] != \"+\":\n",
    "                return False\n",
    "    return True\n",
    "\n",
    "print(SimpleSymbol2(input()))"
   ]
  },
  {
   "cell_type": "code",
   "execution_count": 9,
   "metadata": {},
   "outputs": [
    {
     "name": "stdout",
     "output_type": "stream",
     "text": [
      "2\n",
      "1\n",
      "False\n",
      "2\n",
      "1\n",
      "False\n"
     ]
    }
   ],
   "source": [
    "## Check nums\n",
    "# Using the Python language, have the function CheckNums(num1,num2) take both parameters being passed and return the\n",
    "# string true if num2 is greater than num1, otherwise return the string false. If the parameter values are equal to\n",
    "# each other then return the string -1.\n",
    "\n",
    "def CheckNums(num1, num2):\n",
    "    if num2 > num1:\n",
    "        return True\n",
    "    elif num2 == num1:\n",
    "        return -1\n",
    "    else:\n",
    "        return False\n",
    "\n",
    "print(CheckNums(input(), input()))\n",
    "\n",
    "### Cara lain\n",
    "def CheckNums2(num1, num2):\n",
    "    if num2 == num1:\n",
    "        return -1\n",
    "    return num2 > num1\n",
    "print(CheckNums(input(), input()))"
   ]
  },
  {
   "cell_type": "code",
   "execution_count": 10,
   "metadata": {},
   "outputs": [
    {
     "name": "stdout",
     "output_type": "stream",
     "text": [
      "63\n",
      "1:3\n"
     ]
    }
   ],
   "source": [
    "### Time Convert\n",
    "# Using the Python language, have the function TimeConvert(num) take the num parameter being passed and return the\n",
    "# number of hours and minutes the parameter converts to (ie. if num = 63 then the output should be 1:3).\n",
    "# Separate the number of hours and minutes with a colon.\n",
    "\n",
    "def TimeConvert(num):\n",
    "    return \"{0}:{1}\".format(int(num)//60, int(num)%60)\n",
    "\n",
    "print(TimeConvert(input()))"
   ]
  },
  {
   "cell_type": "code",
   "execution_count": 11,
   "metadata": {},
   "outputs": [
    {
     "name": "stdout",
     "output_type": "stream",
     "text": [
      "hello\n",
      "ehllo\n"
     ]
    }
   ],
   "source": [
    "## Alphabet Soup\n",
    "# Have the function AlphabetSoup(str) take the str string parameter being passed and return the string with the letters\n",
    "# in alphabetical order (ie. hello becomes ehllo). Assume numbers and punctuation symbols will not be included in the string.\n",
    "\n",
    "def AlphabetSoup(str):\n",
    "    ordered_index_word = sorted([al.index(el) for el in str])\n",
    "    ordered_word = \"\".join([al[idx] for idx in ordered_index_word])\n",
    "    return ordered_word\n",
    "\n",
    "print(AlphabetSoup(input()))"
   ]
  },
  {
   "cell_type": "code",
   "execution_count": 12,
   "metadata": {},
   "outputs": [
    {
     "name": "stdout",
     "output_type": "stream",
     "text": [
      "lane corrobed\n",
      "True\n"
     ]
    }
   ],
   "source": [
    "## AB Check\n",
    "#  Using the Python language, have the function ABCheck(str) take the str parameter being passed and return the string\n",
    "# true if the characters a and b are separated by exactly 3 places anywhere in the string at least once (ie.\n",
    "# \"lane borrowed\" would result in true because there is exactly three characters between a and b). Otherwise\n",
    "# return the string false.\n",
    "\n",
    "def ABCheck(str):\n",
    "    for num in range(len(str)):\n",
    "        if str[num] == 'a':\n",
    "            if str[num-4] == 'b' or str[num+4] == 'b':\n",
    "                return True\n",
    "    return False\n",
    "\n",
    "print(ABCheck(input()))"
   ]
  },
  {
   "cell_type": "code",
   "execution_count": 13,
   "metadata": {},
   "outputs": [
    {
     "name": "stdout",
     "output_type": "stream",
     "text": [
      "All cows eat grass\n",
      "5\n"
     ]
    }
   ],
   "source": [
    "## Vowel count\n",
    "#  Using the Python language, have the function VowelCount(str) take the str string parameter being passed and return\n",
    "# the number of vowels the string contains (ie. \"All cows eat grass\" would return 5). Do not count y as a vowel for\n",
    "# this challenge.\n",
    "\n",
    "def VowelCount(str):\n",
    "    total = len([i for i, el in enumerate(str) if el.lower() in 'aiueo'])\n",
    "    return total\n",
    "\n",
    "print(VowelCount(input()))"
   ]
  },
  {
   "cell_type": "code",
   "execution_count": 14,
   "metadata": {},
   "outputs": [
    {
     "name": "stdout",
     "output_type": "stream",
     "text": [
      "Never eat shredded wheat\n",
      "4\n"
     ]
    }
   ],
   "source": [
    "## Word Count\n",
    "# Using the Python language, have the function WordCount(str) take the str string parameter being passed and return the\n",
    "# number of words the string contains (ie. \"Never eat shredded wheat\" would return 4). Words will be separated by\n",
    "# single spaces.\n",
    "\n",
    "def WordCount(str):\n",
    "    return len(str.split())\n",
    "\n",
    "print(WordCount(input()))"
   ]
  },
  {
   "cell_type": "code",
   "execution_count": 15,
   "metadata": {},
   "outputs": [
    {
     "name": "stdout",
     "output_type": "stream",
     "text": [
      "xooxxxxooox\n",
      "False\n",
      "xooxxxxooox\n",
      "False\n"
     ]
    }
   ],
   "source": [
    "## Ex Oh\n",
    "#  Using the Python language, have the function ExOh(str) take the str parameter being passed and return the string true\n",
    "# if there is an equal number of x's and o's, otherwise return the string false. Only these two letters will be entered\n",
    "# in the string, no punctuation or numbers. For example: if str is \"xooxxxxooxo\" then the output should return false\n",
    "# because there are 6 x's and 5 o's.\n",
    "\n",
    "def ExOh(str):\n",
    "    amount_x = len([i for i, el in enumerate(str) if el == 'x'])\n",
    "    amount_o = len([i for i, el in enumerate(str) if el == 'o'])\n",
    "    if amount_x == amount_o:\n",
    "        return True\n",
    "    else:\n",
    "        return False\n",
    "\n",
    "print(ExOh(input()))\n",
    "\n",
    "##### Another Try\n",
    "\n",
    "def ExOh2(str):\n",
    "    x_count = 0\n",
    "    o_count = 0\n",
    "    for char in str:\n",
    "        if char == 'x':\n",
    "            x_count += 1\n",
    "        elif char == 'o':\n",
    "            o_count += 1\n",
    "    if x_count == o_count:\n",
    "        return True\n",
    "    return False\n",
    "print(ExOh(input()))"
   ]
  },
  {
   "cell_type": "code",
   "execution_count": 16,
   "metadata": {},
   "outputs": [
    {
     "name": "stdout",
     "output_type": "stream",
     "text": [
      "euy\n",
      "false\n"
     ]
    }
   ],
   "source": [
    "### Palindrome\n",
    "# Have the function Palindrome(str) take the str parameter being passed and return the string true if the parameter is\n",
    "# a palindrome, (the string is the same forward as it is backward) otherwise return the string false. For example:\n",
    "# \"racecar\" is also \"racecar\" backwards. Punctuation and numbers will not be part of the string.\n",
    "\n",
    "def Palindrome(str):\n",
    "    if str == str[::-1]:\n",
    "        return \"true\"\n",
    "    return \"false\"\n",
    "\n",
    "print(Palindrome(input()))"
   ]
  },
  {
   "cell_type": "code",
   "execution_count": 17,
   "metadata": {},
   "outputs": [
    {
     "name": "stdout",
     "output_type": "stream",
     "text": [
      "arithmatic\n",
      "geometric\n",
      "-1\n"
     ]
    }
   ],
   "source": [
    "### ArithGeo\n",
    "# Using the Python language, have the function ArithGeo(arr) take the array of numbers stored in arr and return the\n",
    "# string \"Arithmetic\" if the sequence follows an arithmetic pattern or return \"Geometric\" if it follows a geometric\n",
    "# pattern. If the sequence doesn't follow either pattern return -1. An arithmetic sequence is one where the difference\n",
    "# between each of the numbers is consistent, where as in a geometric sequence, each term after the first is multiplied\n",
    "# by some constant or common ratio. Arithmetic example: [2, 4, 6, 8] and Geometric example: [2, 6, 18, 54].\n",
    "# Negative numbers may be entered as parameters, 0 will not be entered, and no array will contain all the same elements.\n",
    "\n",
    "def ArithGeo(arr):\n",
    "    if (arr[2] - arr[1]) == (arr[3] - arr[2]):\n",
    "        return \"arithmatic\"\n",
    "    elif (arr[2] // arr[1]) == (arr[3] // arr[2]):\n",
    "        return \"geometric\"\n",
    "    return -1\n",
    "\n",
    "arith = [2, 4, 6, 8]\n",
    "geotc = [2, 6, 18, 54]\n",
    "none = [2, 3, 8, 14]\n",
    "print(ArithGeo(arith))\n",
    "print(ArithGeo(geotc))\n",
    "print(ArithGeo(none))"
   ]
  },
  {
   "cell_type": "code",
   "execution_count": 161,
   "metadata": {},
   "outputs": [
    {
     "name": "stdout",
     "output_type": "stream",
     "text": [
      "[1, 3, 4, 6, 10, 23]\n",
      "0\n"
     ]
    }
   ],
   "source": [
    "### Array addition (Diulang)\n",
    "#  Using the Python language, have the function ArrayAdditionI(arr) take the array of numbers stored in arr and return\n",
    "# the string true if any combination of numbers in the array can be added up to equal the largest number in the array,\n",
    "# otherwise return the string false. For example: if arr contains [4, 6, 23, 10, 1, 3] the output should return true\n",
    "# because 4 + 6 + 10 + 3 = 23. The array will not be empty, will not contain all the same elements, and may contain\n",
    "# negative numbers.\n",
    "\n",
    "##### Stupiddd wkwkwkw ####\n",
    "# def ArrayAdditionI(arr):\n",
    "#     largest = sorted(arr).pop()\n",
    "#     new_arr = [a for a in arr if a != largest]\n",
    "#     for i in sorted(new_arr):\n",
    "#         if sum(new_arr) - i == largest:\n",
    "#             return \"true\"\n",
    "#     return \"false\"\n",
    "        \n",
    "# arr = [4, 6, 23, 10, 1, 3]\n",
    "# print(ArrayAdditionI(arr))\n",
    "\n",
    "############ Using recursion ##############\n",
    "# https://github.com/cenk314315/Coderbyte_Challanges/blob/main/ArrayAddition.py\n",
    "\n",
    "def ArrayAddition(arr):\n",
    "    target = sorted(arr).pop()\n",
    "    new_arr = [a for a in arr if a != largest]\n",
    "    return groupSum(0, new_arr, target)\n",
    "\n",
    "def groupSum(start, nums, target):\n",
    "    if start == len(nums):\n",
    "        return target = 0\n",
    "\n",
    "arr = [4, 6, 23, 10, 1, 3]\n",
    "print(ArrayAddition(arr))\n",
    "\n",
    "########################## More wiser ########\n",
    "\n",
    "# ### Array Addition\n",
    "# # https://github.com/ratracegrad/coderbyte-Beginner/blob/master/Array%20Addition%20I\n",
    "\n",
    "# def ArrayAddition(arr):\n",
    "#     if sum(arr) - max(arr) >= max(arr):\n",
    "#         return True\n",
    "#     else:\n",
    "#         return False\n",
    "\n",
    "# arr = [4, 6, 23, 10, 1, 3]\n",
    "# print(ArrayAddition(arr))"
   ]
  },
  {
   "cell_type": "code",
   "execution_count": null,
   "metadata": {},
   "outputs": [],
   "source": []
  },
  {
   "cell_type": "code",
   "execution_count": 61,
   "metadata": {},
   "outputs": [
    {
     "name": "stdout",
     "output_type": "stream",
     "text": [
      "Today, is the greatest day ever!\n",
      "greatest\n"
     ]
    }
   ],
   "source": [
    "### Letter Count\n",
    "#  Using the Python language, have the function LetterCountI(str) take the str parameter being passed and return the\n",
    "# first word with the greatest number of repeated letters. For example: \"Today, is the greatest day ever!\" should return\n",
    "# greatest because it has 2 e's (and 2 t's) and it comes before ever which also has 2 e's. If there are no words with\n",
    "# repeating letters return -1. Words will be separated by spaces.\n",
    "\n",
    "import string\n",
    "\n",
    "def LetterCount(str):\n",
    "    word_max = {}\n",
    "    max_key = []\n",
    "    max_value = []\n",
    "    total_len = []\n",
    "    total = {}\n",
    "    for i, char in enumerate(str.split()):\n",
    "        temp_c = FindTempC(char)\n",
    "        word_max[i] = max(temp_c.values())\n",
    "    for key, value in word_max.items():\n",
    "        if value == max(word_max.values()):\n",
    "            max_key.append(key)\n",
    "            max_value.append(value)\n",
    "    for i, char in enumerate(str.split()):\n",
    "        if i in max_key:\n",
    "            temp_d = {}\n",
    "            for d in char.lower():\n",
    "                if d not in string.punctuation:\n",
    "                    if d not in temp_d:\n",
    "                        temp_d[d] = 0\n",
    "                    temp_d[d] += 1\n",
    "            total_len.append(len([t for t in temp_d.values() if t in list(set(max_value))]))\n",
    "    return str.split()[max_key[total_len.index(2)]]\n",
    "                \n",
    "    \n",
    "## helper function\n",
    "def FindTempC(char):\n",
    "    temp_c = {}\n",
    "    for c in char.lower():\n",
    "        if c not in string.punctuation:\n",
    "            if c not in temp_c:\n",
    "                temp_c[c] = 0\n",
    "            temp_c[c] += 1\n",
    "    return temp_c\n",
    "    \n",
    "print(LetterCount(input()))\n",
    "\n",
    "###### Another technique, more wise (maybee, hehe) ###########\n",
    "from string import ascii_lowercase as al\n",
    "\n",
    "def repeated_char(word):\n",
    "    temp = {}\n",
    "    for char in word:\n",
    "        if char not in al:\n",
    "            continue\n",
    "        else:\n",
    "            temp[char] = temp.get(char,0) + 1\n",
    "    return max(temp.values()), temp\n",
    "\n",
    "def LetterCount2(str):\n",
    "    max_count = 1\n",
    "    word_most = ''\n",
    "    max_repeated = []\n",
    "    tmp = []\n",
    "    for word in str.split():\n",
    "        max_values, temp = repeated_char(word.lower())\n",
    "        if max_values > max_count:\n",
    "            max_count = max_values\n",
    "        tmp.append(temp)\n",
    "    for t in tmp:\n",
    "        max_repeated.append(len([j for j in t.values() if j == max_count]))\n",
    "    if max_count > 1:\n",
    "        return str.split()[max_repeated.index(max(max_repeated))]\n",
    "    return -1\n",
    "\n",
    "print(LetterCount2(input()))    "
   ]
  },
  {
   "cell_type": "code",
   "execution_count": 15,
   "metadata": {},
   "outputs": [
    {
     "data": {
      "text/plain": [
       "'Hello Nicolas'"
      ]
     },
     "execution_count": 15,
     "metadata": {},
     "output_type": "execute_result"
    }
   ],
   "source": [
    "## filter punctuation\n",
    "s = \"string. With. Punctuation?\"\n",
    "t = \"Hello, Nicolas!\"\n",
    "s.translate(str.maketrans('', '', string.punctuation))\n",
    "t.translate(str.maketrans('', '', string.punctuation))"
   ]
  },
  {
   "cell_type": "code",
   "execution_count": 335,
   "metadata": {},
   "outputs": [
    {
     "name": "stdout",
     "output_type": "stream",
     "text": [
      "12 98\n"
     ]
    }
   ],
   "source": [
    "### Second great letter\n",
    "#  Using the Python language, have the function SecondGreatLow(arr) take the array of numbers stored in arr and return\n",
    "# the second lowest and second greatest numbers, respectively, separated by a space. For example: if arr contains\n",
    "# [7, 7, 12, 98, 106] the output should be 12 98. The array will not be empty and will contain at least 2 numbers.\n",
    "# It can get tricky if there's just two numbers!\n",
    "\n",
    "def SecondGreat(arr):\n",
    "    min = sorted(set(arr),reverse=False)[1]\n",
    "    max = sorted(set(arr),reverse=True)[1]\n",
    "    return \"{0} {1}\".format(min, max)\n",
    "\n",
    "arr = [7, 7, 12, 98, 106]\n",
    "print(SecondGreat(arr))"
   ]
  },
  {
   "cell_type": "code",
   "execution_count": 118,
   "metadata": {},
   "outputs": [
    {
     "name": "stdout",
     "output_type": "stream",
     "text": [
      "acc?7??sss?3rr1??????5\n",
      "true\n",
      "acc?7??sss?3rr1??????5\n",
      "true\n"
     ]
    }
   ],
   "source": [
    "### Question Mark\n",
    "## https://github.com/Liangmp/coderbyte-solution/blob/master/coderbyte-QuestionsMarks.py\n",
    "\n",
    "from string import ascii_lowercase as al\n",
    "\n",
    "def QuestionMark(str):\n",
    "    number = '1234567890'\n",
    "    new_str = [char for char in str if char not in al]\n",
    "    counter = 0\n",
    "    index = []\n",
    "    for i, el in enumerate(new_str):\n",
    "        if el == '?':\n",
    "            counter += 1\n",
    "            index.append(i)\n",
    "        elif counter == 3:\n",
    "            break\n",
    "        else:\n",
    "            counter -= 1\n",
    "            if index:\n",
    "                index.pop()\n",
    "    if index:\n",
    "        if new_str[(sorted(index,reverse=False)[0]) - 1] + new_str[(sorted(index,reverse=True)[0]) + 1]:\n",
    "            return \"true\"\n",
    "    else:\n",
    "        return \"false\"\n",
    "\n",
    "print(QuestionMark(input()))\n",
    "\n",
    "####### Another way, more wise (i hopee) ####\n",
    "def QuestionMarks2(str):\n",
    "    numbers = '1234567890'\n",
    "    lastDigit = None\n",
    "    answer = \"false\"\n",
    "    for i in range(len(str)):\n",
    "        if str[i].isdigit():\n",
    "            if lastDigit:\n",
    "                if int(str[i]) + int(str[lastDigit]) == 10:\n",
    "                    if str[lastDigit:i].count('?') == 3:\n",
    "                        answer = \"true\"\n",
    "                    else:\n",
    "                        answer = \"false\"\n",
    "            lastDigit = i\n",
    "    return answer\n",
    "\n",
    "print(QuestionMarks2(input()))"
   ]
  },
  {
   "cell_type": "code",
   "execution_count": null,
   "metadata": {},
   "outputs": [],
   "source": [
    "### Closest Enemy\n",
    "# Have the function ClosestEnemyII(strArr) read the matrix of numbers stored in strArr which will be a 2D matrix that contains \n",
    "# only the integers 1, 0, or 2. Then from the position in the \n",
    "# matrix where a 1 is, return the number of spaces either left, right, down, or up you must move to reach an enemy which is \n",
    "# represented by a 2. You are able to wrap around one side of the \n",
    "# matrix to the other as well. \n",
    "# https://github.com/Liangmp/coderbyte-solution/blob/master/coderbyte-ClosestEnemyII.py\n",
    "\n",
    "def ClosestEnemy(strArr):\n",
    "    return 0\n",
    "\n",
    "arr = [\"000\", \"100\", \"200\"]\n",
    "print(ClosestEnemy(arr))"
   ]
  },
  {
   "cell_type": "code",
   "execution_count": 119,
   "metadata": {},
   "outputs": [],
   "source": [
    "### Scale Balancing\n"
   ]
  },
  {
   "cell_type": "code",
   "execution_count": 132,
   "metadata": {},
   "outputs": [],
   "source": [
    "### Vowel Square\n"
   ]
  },
  {
   "cell_type": "code",
   "execution_count": 175,
   "metadata": {},
   "outputs": [
    {
     "name": "stdout",
     "output_type": "stream",
     "text": [
      "Ecguct Ekrjgt\n"
     ]
    }
   ],
   "source": [
    "### Caesar Cipher\n",
    "# https://github.com/jackmcd4/CoderByte-Medium-Problems/blob/master/Caesar%20Cipher\n",
    "\n",
    "def CaesarCipher(str, num):\n",
    "    letter = {item:int(i+1) for i, item in enumerate(al)}\n",
    "    word = []\n",
    "    for item in str.split():\n",
    "        temp = ''\n",
    "        for char in item.lower():\n",
    "            temp += al[al.index(char)+num]\n",
    "        word.append(temp.title())\n",
    "    return \" \".join(word)\n",
    "\n",
    "sample = \"Caesar Cipher\"\n",
    "num = 2\n",
    "print(CaesarCipher(sample, num))"
   ]
  },
  {
   "cell_type": "code",
   "execution_count": 7,
   "metadata": {},
   "outputs": [
    {
     "name": "stdout",
     "output_type": "stream",
     "text": [
      "abcgg\n"
     ]
    }
   ],
   "source": [
    "### String Change\n",
    "# https://github.com/cenk314315/Coderbyte_Challanges/blob/main/StringChanges.py\n",
    "\n",
    "# def StringCalculate(str):\n",
    "#     N_str = ''\n",
    "#     total = ''\n",
    "#     for i in range(len(str)):\n",
    "#         if str[i] == \"N\":\n",
    "#             N_str += str.replace('{0}{1}'.format(str[i],str[i+1]),'')\n",
    "#     for j in range(len(N_str)):\n",
    "#         if N_str[j] == \"M\":\n",
    "#             total += N_str.replace('{0}{1}'.format(N_str[j-1],N_str[j]),'{0}{1}'.format(N_str[j-1],N_str[j-1]))\n",
    "#     return total\n",
    "\n",
    "# sample = \"abcNdgM\"\n",
    "# print(StringCalculate(sample))\n",
    "\n",
    "### More wise\n",
    "\n",
    "def StringCalculate2(str):\n",
    "    s = list(str)\n",
    "    while s[0] == 'M':\n",
    "        del s[0]\n",
    "    for i in range(len(s)):\n",
    "        if s[i] == 'M':\n",
    "            s[i] = s[i-1]\n",
    "    while s[-1] == 'N':\n",
    "        del s[-1]\n",
    "    while 'N' in s:\n",
    "        x = s.index('N')\n",
    "        s.pop(x+1)\n",
    "        s.pop(x)\n",
    "    return \"\".join(s)\n",
    "\n",
    "sample = \"abcNdgM\"\n",
    "print(StringCalculate2(sample))"
   ]
  },
  {
   "cell_type": "code",
   "execution_count": 134,
   "metadata": {},
   "outputs": [
    {
     "name": "stdout",
     "output_type": "stream",
     "text": [
      "(2+(3-1)*3)**3\n",
      "None\n",
      "(2-0)*(6/2)\n",
      "None\n",
      "3*(1)\n",
      "None\n",
      "(1)3\n",
      "None\n"
     ]
    }
   ],
   "source": [
    "#### String calculate (Coba nanti)\n",
    "# https://github.com/cenk314315/Coderbyte_Challanges/blob/main/String%20Calculate.py\n",
    "\n",
    "def StringCalculate(str):\n",
    "    s = list(str)\n",
    "    ittr = len(s)-1\n",
    "    for i in range(ittr):\n",
    "        if s[i] != '(' and s[i+1] == '(':\n",
    "            if s[i] != '*' and s[i] != '/' and s[i] != '+' and s[i] != '-':\n",
    "                s.insert(i+1, '*')\n",
    "    print(\"\".join(s))\n",
    "    \n",
    "sample1 = \"(2+(3-1)*3)**3\"\n",
    "sample2 = \"(2-0)(6/2)\"\n",
    "sample3 = \"3(1)\"\n",
    "sample4 = \"(1)3\"\n",
    "print(StringCalculate(sample1))\n",
    "print(StringCalculate(sample2))\n",
    "print(StringCalculate(sample3))\n",
    "print(StringCalculate(sample4))"
   ]
  },
  {
   "cell_type": "code",
   "execution_count": 135,
   "metadata": {},
   "outputs": [],
   "source": [
    "##################### MEDIUM ###########################"
   ]
  },
  {
   "cell_type": "code",
   "execution_count": 144,
   "metadata": {},
   "outputs": [
    {
     "name": "stdout",
     "output_type": "stream",
     "text": [
      "15\n",
      "false\n"
     ]
    }
   ],
   "source": [
    "### Prime Time\n",
    "# Have the function PrimeTime(num) take the num parameter being passed and return the string \n",
    "# true if the parameter is a prime number, otherwise return the string false. The range will \n",
    "# be between 1 and 2^16.\n",
    "\n",
    "def PrimeTime(num):\n",
    "    flag = False\n",
    "    if num > 1:\n",
    "        for i in range(2, num):\n",
    "            if (num % i == 0):\n",
    "                flag = True\n",
    "                break\n",
    "    if flag:\n",
    "        return \"false\"\n",
    "    else:\n",
    "        return \"true\"\n",
    "\n",
    "print(PrimeTime(int(input())))"
   ]
  },
  {
   "cell_type": "code",
   "execution_count": 171,
   "metadata": {},
   "outputs": [
    {
     "name": "stdout",
     "output_type": "stream",
     "text": [
      "wwwggopp\n",
      "3w2g1g2p\n",
      "wwwggopp\n",
      "3w2g1o2p\n"
     ]
    }
   ],
   "source": [
    "### Run length \n",
    "# Have the function RunLength(str) take the str parameter being passed and return a compressed version of the string\n",
    "# using the Run-length encoding algorithm. This algorithm works by taking the occurrence of each repeating character\n",
    "# and outputting that number along with a single character of the repeating sequence. For example: \"wwwggopp\" would\n",
    "# return 3w2g1o2p. The string will not contain any numbers, punctuation, or symbols.\n",
    "\n",
    "def RunLength(string):\n",
    "    word = ''\n",
    "    count = 1\n",
    "    for i in range(len(string)):\n",
    "        if i != (len(string) - 1):\n",
    "            if string[i] == string[i+1]:\n",
    "                count = count + 1\n",
    "                continue\n",
    "        word += str(count)\n",
    "        word += string[i-1]\n",
    "        count = 1\n",
    "    return word\n",
    "print(RunLength(input()))\n",
    "\n",
    "\n",
    "######## From other ########\n",
    "# https://github.com/bolducp/coderbyte/blob/master/medium/02_run_length.py\n",
    "def RunLength2(a_str):\n",
    "    compressed_string = ''\n",
    "    start_indices = get_new_letter_start_indices(a_str)\n",
    "    end_indices = len(a_str)\n",
    "    start_indices.append(end_indices)\n",
    "    \n",
    "    for idx in range(len(start_indices) - 1):\n",
    "        num_occur = start_indices[idx + 1] - start_indices[idx]\n",
    "        letter = a_str[start_indices[idx]]\n",
    "        compressed_string += (str(num_occur) + letter)\n",
    "        \n",
    "    return compressed_string\n",
    "\n",
    "def get_new_letter_start_indices(a_str):\n",
    "    letter_start = [0]\n",
    "    for i in range(1, len(a_str)):\n",
    "        if a_str[i] != a_str[i-1]:\n",
    "            letter_start.append(i)\n",
    "    return letter_start\n",
    "\n",
    "print(RunLength2(input()))"
   ]
  },
  {
   "cell_type": "code",
   "execution_count": 197,
   "metadata": {},
   "outputs": [
    {
     "name": "stdout",
     "output_type": "stream",
     "text": [
      "16\n",
      "53\n"
     ]
    }
   ],
   "source": [
    "#### Prime Mover\n",
    "# Have the function PrimeMover(num) return the numth prime number. The range will be from 1 to 10^4.\n",
    "# For example: if num is 16 the output should be 53 as 53 is the 16th prime number.\n",
    "\n",
    "def PrimeMover(num):\n",
    "    flag = True\n",
    "    primes = [2]\n",
    "    el = 3\n",
    "    while flag and (el < 10000):\n",
    "        if is_prime(el):\n",
    "            primes.append(el)\n",
    "        if len(primes) == num:\n",
    "            flag = False\n",
    "        el = el + 1\n",
    "    return primes[-1]\n",
    "\n",
    "def is_prime(num):\n",
    "    flag = True\n",
    "    if num > 1:\n",
    "        for i in range(2, num):\n",
    "            if (num % i) == 0 :\n",
    "                flag = False\n",
    "                break\n",
    "    return flag\n",
    "\n",
    "print(PrimeMover(int(input())))    "
   ]
  },
  {
   "cell_type": "code",
   "execution_count": 209,
   "metadata": {},
   "outputs": [
    {
     "name": "stdout",
     "output_type": "stream",
     "text": [
      "true\n"
     ]
    }
   ],
   "source": [
    "### Palindrom Two\n",
    "# Have the function PalindromeTwo(str) take the str parameter being passed and return the string true if the parameter\n",
    "# is a palindrome, (the string is the same forward as it is backward) otherwise return the string false. The parameter\n",
    "# entered may have punctuation and symbols but they should not affect whether the string is in fact a palindrome.\n",
    "# For example: \"Anne, I vote more cars race Rome-to-Vienna\" should return true.\n",
    "\n",
    "import string\n",
    "\n",
    "def PalindromTwo(str):\n",
    "    s = list(str)\n",
    "    new_s = [char.lower() for char in s if (char not in list(string.punctuation)) and (char != ' ')]\n",
    "    new_str = \"\".join(new_s)\n",
    "    if (new_str == new_str[::-1]):\n",
    "        return \"true\"\n",
    "    return \"false\"\n",
    "\n",
    "sample = \"Anne, I vote more cars race Rome-to-Vienna\"\n",
    "print(PalindromTwo(sample))"
   ]
  },
  {
   "cell_type": "code",
   "execution_count": 219,
   "metadata": {},
   "outputs": [
    {
     "name": "stdout",
     "output_type": "stream",
     "text": [
      "21\n",
      "12\n",
      "3\n"
     ]
    }
   ],
   "source": [
    "#### Division (Diulang)\n",
    "#  Have the function Division(num1,num2) take both parameters being passed and return the Greatest Common Factor.\n",
    "# That is, return the greatest number that evenly goes into both numbers with no remainder. For example: 12 and 16 both\n",
    "# are divisible by 1, 2, and 4 so the output should be 4. The range for both parameters will be from 1 to 10^3.\n",
    "\n",
    "def Division(num1, num2):\n",
    "    for i in range(max(num1, num2), 1, -1):\n",
    "        if (num1 % i == 0) and (num2 % i == 0):\n",
    "            return i\n",
    "\n",
    "print(Division(int(input()), int(input())))"
   ]
  },
  {
   "cell_type": "code",
   "execution_count": 2,
   "metadata": {},
   "outputs": [
    {
     "name": "stdout",
     "output_type": "stream",
     "text": [
      "true\n",
      "true\n"
     ]
    }
   ],
   "source": [
    "#### String Scramble\n",
    "#  Using the Python language, have the function StringScramble(str1,str2) take both parameters being passed and return\n",
    "# the string true if a portion of str1 characters can be rearranged to match str2, otherwise return the string false.\n",
    "# For example: if str1 is \"rkqodlw\" and str2 is \"world\" the output should return true. Punctuation and symbols will\n",
    "# not be entered with the parameters.\n",
    "\n",
    "def StringScramble(str1, str2):\n",
    "    cond = []\n",
    "    for char in str2:\n",
    "        if char in str1: \n",
    "            cond.append(1)\n",
    "            continue\n",
    "        cond.append(0)\n",
    "    if 0 in cond:\n",
    "        return \"false\"\n",
    "    return \"true\"\n",
    "    \n",
    "sample1 = 'rkqodlw'\n",
    "sample2 = 'world'\n",
    "print(StringScramble(sample1, sample2))\n",
    "\n",
    "######## Another try ###########\n",
    "def StringScramble2(str1, str2):\n",
    "    outer_str = str1\n",
    "    inner_str = str2\n",
    "    for char in inner_str:\n",
    "        if char not in outer_str:\n",
    "            return \"false\"\n",
    "        outer_str = outer_str.replace(char, \"\", 1)\n",
    "    return \"true\"\n",
    "\n",
    "print(StringScramble2(sample1, sample2))"
   ]
  },
  {
   "cell_type": "code",
   "execution_count": 29,
   "metadata": {},
   "outputs": [
    {
     "name": "stdout",
     "output_type": "stream",
     "text": [
      "arithmatic\n",
      "geometric\n",
      "-1\n",
      "arithmatic\n",
      "geometric\n",
      "-1\n"
     ]
    }
   ],
   "source": [
    "#### Arith Geo\n",
    "# Have the function ArithGeoII(arr) take the array of numbers stored in arr and return the string \"Arithmetic\" if the\n",
    "# sequence follows an arithmetic pattern or return \"Geometric\" if it follows a geometric pattern. If the sequence\n",
    "# doesn't follow either pattern return -1. An arithmetic sequence is one where the difference between each of the\n",
    "# numbers is consistent, where as in a geometric sequence, each term after the first is multiplied by some constant\n",
    "# or common ratio. Arithmetic example: [2, 4, 6, 8] and Geometric example: [2, 6, 18, 54]. Negative numbers may be\n",
    "# entered as parameters, 0 will not be entered, and no array will contain all the same elements.\n",
    "\n",
    "# Use the Parameter Testing feature in the box below to test your code with different arguments.\n",
    "\n",
    "def ArithGeo(arr):\n",
    "    arith = [arr[i+1] - arr[i] for i in range(len(arr)-1)]\n",
    "    geomth = [arr[i+1] // arr[i] for i in range(len(arr)-1)]\n",
    "    if len(set(arith)) == 1: return \"arithmatic\"\n",
    "    elif len(set(geomth)) == 1: return \"geometric\"\n",
    "    else: return -1\n",
    "    \n",
    "####### another approach ######\n",
    "def ArithGeo2(arr):\n",
    "    if is_aritmatic(arr):\n",
    "        return \"arithmatic\"\n",
    "    elif is_geometric(arr):\n",
    "        return \"geometric\"\n",
    "    return -1\n",
    "\n",
    "def is_aritmatic(arr):\n",
    "    first_diff = arr[1] - arr[0]\n",
    "    for i in range(len(arr)-1):\n",
    "        if arr[i+1] - arr[i] != first_diff:\n",
    "            return False\n",
    "    return True\n",
    "\n",
    "def is_geometric(arr):\n",
    "    first_multp = arr[1] // arr[0]\n",
    "    for i in range(len(arr)-1):\n",
    "        if arr[i+1] // arr[i] != first_multp:\n",
    "            return False\n",
    "    return True\n",
    "\n",
    "sample1 = [2, 4, 6, 8]\n",
    "sample2 = [2, 6, 18, 54]\n",
    "sample3 = [2, 4, 6, 18, 54]\n",
    "###########################\n",
    "print(ArithGeo(sample1))\n",
    "print(ArithGeo(sample2))\n",
    "print(ArithGeo(sample3))\n",
    "###########################\n",
    "print(ArithGeo2(sample1))\n",
    "print(ArithGeo2(sample2))\n",
    "print(ArithGeo2(sample3))"
   ]
  },
  {
   "cell_type": "code",
   "execution_count": 5,
   "metadata": {},
   "outputs": [
    {
     "name": "stdout",
     "output_type": "stream",
     "text": [
      "4\n",
      "10\n",
      "5\n"
     ]
    }
   ],
   "source": [
    "#### Simple Mode\n",
    "#  Using the Python language, have the function SimpleMode(arr) take the array of numbers stored in arr and return the\n",
    "# number that appears most frequently (the mode). For example: if arr contains [10, 4, 5, 2, 4] the output should be 4.\n",
    "# If there is more than one mode return the one that appeared in the array first (ie. [5, 10, 10, 6, 5] should return 5\n",
    "# because it appeared first). If there is no mode return -1. The array will not be empty.\n",
    "\n",
    "def SimpleMode(arr):\n",
    "    temp = {}\n",
    "    for el in arr:\n",
    "        temp[el] = temp.get(el,0) + 1\n",
    "    if bool(temp) == True:\n",
    "        max_value = max(set(temp.values()))\n",
    "        if max_value != 1:\n",
    "            for key, value in temp.items():\n",
    "                if value == max_value:\n",
    "                    return key\n",
    "                    break\n",
    "    return -1\n",
    "\n",
    "arr1 = [10, 4, 5, 2, 4]\n",
    "arr2 = [10, 5, 10, 6, 5]\n",
    "arr3 = [10, 5, 5, 5, 11, 6, 6, 6, 9]\n",
    "print(SimpleMode(arr1))\n",
    "print(SimpleMode(arr2))\n",
    "print(SimpleMode(arr3))"
   ]
  },
  {
   "cell_type": "code",
   "execution_count": 31,
   "metadata": {},
   "outputs": [
    {
     "name": "stdout",
     "output_type": "stream",
     "text": [
      "8\n",
      "8\n",
      "8\n"
     ]
    }
   ],
   "source": [
    "### Consecutive\n",
    "# Using the Python language, have the function Consecutive(arr) take the array of integers stored in arr and return the\n",
    "# minimum number of integers needed to make the contents of arr consecutive from the lowest number to the highest\n",
    "# number. For example: If arr contains [4, 8, 6] then the output should be 2 because two numbers need to be added to the\n",
    "#  array (5 and 7) to make it a consecutive array of numbers from 4 to 8. Negative numbers may be entered as parameters\n",
    "# and no array will have less than 2 elements.\n",
    "\n",
    "def Consecutive(arr):\n",
    "    remain = []\n",
    "    arr = sorted(arr)\n",
    "    for i in range(len(arr)-1):\n",
    "        if arr[i] + 1 == arr[i+1]:\n",
    "            continue\n",
    "        else:\n",
    "            remain.append(arr[i+1] - arr[i])\n",
    "    return sum(remain) - len(remain)\n",
    "\n",
    "#### Another Try\n",
    "def Consecutive2(arr):\n",
    "    arr.sort()\n",
    "    maximum = max(arr)\n",
    "    minimum = min(arr)\n",
    "    \n",
    "    missing_nums = []\n",
    "    for num in range(minimum, maximum):\n",
    "        if num not in arr:\n",
    "            missing_nums.append(num)\n",
    "            \n",
    "    return len(missing_nums)\n",
    "\n",
    "#### Another Try\n",
    "def Consecutive3(arr):\n",
    "    arr.sort()\n",
    "    max_ = max(arr)\n",
    "    min_ = min(arr)\n",
    "    return len([x for x in range(min_, max_)]) - len(arr) + 1\n",
    "\n",
    "arr = [4, 8, 7, 10, 13, 14, 16, 19]\n",
    "print(Consecutive(arr))\n",
    "print(Consecutive2(arr))\n",
    "print(Consecutive3(arr))"
   ]
  },
  {
   "cell_type": "code",
   "execution_count": 56,
   "metadata": {},
   "outputs": [
    {
     "name": "stdout",
     "output_type": "stream",
     "text": [
      "60\n"
     ]
    }
   ],
   "source": [
    "### Counting Minutes (Diulang)\n",
    "# Using the Python language, have the function CountingMinutes(str) take the str parameter being passed which will be\n",
    "# two times (each properly formatted with a colon and am or pm) separated by a hyphen and return the total number of\n",
    "# minutes between the two times. The time will be in a 12 hour clock format. For example: if str is 9:00am-10:00am\n",
    "# then the output should be 60. If str is 1:00pm-11:00am the output should be 1320.\n",
    "\n",
    "def CountingMinutes(str):\n",
    "    str_ = str.split(\"-\")\n",
    "    if str_[0][-2] == \"a\" and str_[1][-2] == \"a\":\n",
    "        new_str = [el.split(\":\") for el in str_]\n",
    "        hours = [int(hour[0]) for hour in new_str]\n",
    "        dif_hours = hours[1] - hours[0]\n",
    "        minutes = [int(minute[1].replace(\"am\",\"\")) for minute in new_str]\n",
    "        dif_minutes = minutes[1] - minutes[0]\n",
    "        return dif_hours * 60 + dif_minutes\n",
    "    elif \n",
    "#     return minutes\n",
    "\n",
    "string = \"9:00am-10:00am\"\n",
    "print(CountingMinutes(string))"
   ]
  },
  {
   "cell_type": "code",
   "execution_count": null,
   "metadata": {},
   "outputs": [
    {
     "name": "stdout",
     "output_type": "stream",
     "text": [
      "possible_num\n"
     ]
    }
   ],
   "source": [
    "### Permutatin Step\n",
    "#  Using the Python language, have the function PermutationStep(num) take the num parameter being passed and return the\n",
    "# next number greater than num using the same digits. For example: if num is 123 return 132, if it's 12453 return 12534.\n",
    "#  If a number has no greater permutations, return -1 (ie. 999).\n",
    "\n",
    "from itertools import permutations\n",
    "\n",
    "def PermutationStep(num):\n",
    "    possible_num = [int(\"\".join(pos)) for pos in list(permutations(num, len(num)))]\n",
    "    idx = sorted(possible_num).index(int(num))\n",
    "    return idx\n",
    "\n",
    "print(PermutationStep(input()))"
   ]
  },
  {
   "cell_type": "code",
   "execution_count": null,
   "metadata": {},
   "outputs": [],
   "source": []
  }
 ],
 "metadata": {
  "kernelspec": {
   "display_name": "Python [conda env:NicolasEnv] *",
   "language": "python",
   "name": "conda-env-NicolasEnv-py"
  },
  "language_info": {
   "codemirror_mode": {
    "name": "ipython",
    "version": 3
   },
   "file_extension": ".py",
   "mimetype": "text/x-python",
   "name": "python",
   "nbconvert_exporter": "python",
   "pygments_lexer": "ipython3",
   "version": "3.7.6"
  }
 },
 "nbformat": 4,
 "nbformat_minor": 4
}
