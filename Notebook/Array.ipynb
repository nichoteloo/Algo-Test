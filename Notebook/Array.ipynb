{
  "nbformat": 4,
  "nbformat_minor": 0,
  "metadata": {
    "colab": {
      "name": "Array.ipynb",
      "provenance": [],
      "collapsed_sections": []
    },
    "kernelspec": {
      "name": "python3",
      "display_name": "Python 3"
    },
    "language_info": {
      "name": "python"
    }
  },
  "cells": [
    {
      "cell_type": "code",
      "metadata": {
        "colab": {
          "base_uri": "https://localhost:8080/"
        },
        "id": "Nza77i0WO19b",
        "outputId": "0eb330ce-df02-4ef0-a7da-98b99298cbda"
      },
      "source": [
        "### Merge two array\n",
        "arr1 = [1, 3, 4, 5]\n",
        "arr2 = [2, 4, 6, 8]\n",
        "\n",
        "def sortion(arr1, arr2, n1, n2):\n",
        "  arr3 = [None] * (n1 + n2)\n",
        "  i = 0\n",
        "  j = 0\n",
        "  k = 0\n",
        "  while i < n1 and j < n2:\n",
        "    if arr1[i] < arr2[j]:\n",
        "      arr3[k] = arr1[i]\n",
        "      k = k + 1\n",
        "      i = i + 1\n",
        "    else:\n",
        "      arr3[k] = arr2[j]\n",
        "      k = k + 1\n",
        "      j = j + 1\n",
        "  print(i, j)\n",
        "  while i < n1:\n",
        "    arr3[k] = arr1[i]\n",
        "    k = k + 1\n",
        "    i = i + 1\n",
        "  while j < n2:\n",
        "    arr3[k] = arr2[j]\n",
        "    k = k + 1\n",
        "    j = j + 1\n",
        "  \n",
        "  print(\"Array after merging\")\n",
        "  for i in range(n1 + n2):\n",
        "    print(str(arr3[i]), end=\" \")\n",
        "\n",
        "sortion(arr1, arr2, len(arr1), len(arr2))"
      ],
      "execution_count": null,
      "outputs": [
        {
          "output_type": "stream",
          "name": "stdout",
          "text": [
            "4 2\n",
            "Array after merging\n",
            "1 2 3 4 4 5 6 8 "
          ]
        }
      ]
    },
    {
      "cell_type": "code",
      "metadata": {
        "colab": {
          "base_uri": "https://localhost:8080/"
        },
        "id": "LUQqCmbUTdcC",
        "outputId": "d023584e-9166-4ed0-ea6e-f1f7bce59222"
      },
      "source": [
        "## Remove duplicate\n",
        "\n",
        "def remove_dup(arr):\n",
        "  return sorted(list(set(arr)))\n",
        "\n",
        "arr = [\"a\", \"b\", \"a\", \"c\", \"c\"]\n",
        "print(remove_dup(arr))"
      ],
      "execution_count": null,
      "outputs": [
        {
          "output_type": "stream",
          "name": "stdout",
          "text": [
            "['a', 'b', 'c']\n"
          ]
        }
      ]
    },
    {
      "cell_type": "code",
      "metadata": {
        "id": "gNiOZ470ZdAK",
        "colab": {
          "base_uri": "https://localhost:8080/"
        },
        "outputId": "d0ffc2f5-ec1f-45e5-9e6a-f505c2c9b708"
      },
      "source": [
        "### Count frequency of an element in arra\n",
        "\n",
        "arr = [10, 20, 20, 10, 10, 20, 5, 20]\n",
        "\n",
        "## Naive\n",
        "def countFreq(arr, n):\n",
        "  visited = [False for i in range(n)]\n",
        "  for i in range(n):\n",
        "    if visited[i] == True:\n",
        "      continue\n",
        "    count = 1\n",
        "    for j in range(i + 1, n, 1):\n",
        "      if arr[i] == arr[j]:\n",
        "        visited[j] = True\n",
        "        count += 1\n",
        "    print(arr[i], count)\n",
        "\n",
        "countFreq(arr, len(arr))"
      ],
      "execution_count": null,
      "outputs": [
        {
          "output_type": "stream",
          "name": "stdout",
          "text": [
            "10 3\n",
            "20 4\n",
            "5 1\n"
          ]
        }
      ]
    },
    {
      "cell_type": "code",
      "metadata": {
        "id": "h65KV4N1dnnR",
        "colab": {
          "base_uri": "https://localhost:8080/"
        },
        "outputId": "72e1e1fb-5ceb-47f7-9272-06229dc757b4"
      },
      "source": [
        "## Remove duplicates\n",
        "def removeDup(nums):\n",
        "  count = 0\n",
        "  for i in range(len(nums)):\n",
        "    if i < len(nums) - 1 and nums[i] == nums[i+1]:\n",
        "      continue\n",
        "    nums[count] = nums[i] ## update array in-place\n",
        "    count += 1\n",
        "  return count\n",
        "\n",
        "print(removeDup([1,2,2,3,4,4,4,5,5,6,7,7]))"
      ],
      "execution_count": null,
      "outputs": [
        {
          "output_type": "stream",
          "name": "stdout",
          "text": [
            "7\n"
          ]
        }
      ]
    },
    {
      "cell_type": "code",
      "metadata": {
        "colab": {
          "base_uri": "https://localhost:8080/"
        },
        "id": "YKOLJ5qotERe",
        "outputId": "c8d66e79-3f3f-45b8-ab33-20fb39b0cbf2"
      },
      "source": [
        "## convert sorted array to bst\n",
        "class Node:\n",
        "  def __init__(self, d):\n",
        "    self.data = d\n",
        "    self.left = None\n",
        "    self.right = None\n",
        "\n",
        "def sortedArrayToBST(arr):\n",
        "  if not arr: # base condition\n",
        "    return None\n",
        "  mid = len(arr) // 2\n",
        "  root = Node(arr[mid])\n",
        "  root.left = sortedArrayToBST(arr[:mid])\n",
        "  root.right = sortedArrayToBST(arr[mid+1:])\n",
        "  return root\n",
        "\n",
        "def preOrder(node):\n",
        "  if not node:\n",
        "    return None\n",
        "  print(node.data, preOrder(node.left), preOrder(node.right))\n",
        "\n",
        "arr = [1, 2, 3, 4, 5, 6, 7]\n",
        "root = sortedArrayToBST(arr)\n",
        "print(\"PreOrder Traversal of constructed BST \", preOrder(root))"
      ],
      "execution_count": null,
      "outputs": [
        {
          "output_type": "stream",
          "name": "stdout",
          "text": [
            "1 None None\n",
            "3 None None\n",
            "2 None None\n",
            "5 None None\n",
            "7 None None\n",
            "6 None None\n",
            "4 None None\n",
            "PreOrder Traversal of constructed BST  None\n"
          ]
        }
      ]
    },
    {
      "cell_type": "code",
      "metadata": {
        "id": "ItWH6dhfCs0P",
        "colab": {
          "base_uri": "https://localhost:8080/"
        },
        "outputId": "4e308ff3-7b6c-468a-848e-ae7720b345f1"
      },
      "source": [
        "### Palindrom pairs\n",
        "def palindromePairs(words):\n",
        "  wmap, ans = {}, []\n",
        "  for i in range(len(words)):\n",
        "    wmap[words[i]] = i\n",
        "  for i in range(len(words)):\n",
        "    if words[i] == \"\":\n",
        "      for j in range(len(words)):\n",
        "        w = words[j]\n",
        "        if isPal(w, 0, len(w)-1) and j != i:\n",
        "          ans.append([i, j])\n",
        "          ans.append([i, j])\n",
        "      continue\n",
        "    bw = words[i][::-1]\n",
        "    if bw in wmap:\n",
        "      res = wmap[bw]\n",
        "      if res != i: ans.append([i, res])\n",
        "    for j in range(1, len(bw)):\n",
        "      if isPal(bw, 0, j-1) and bw[j:] in wmap:\n",
        "        ans.append([i, wmap[bw[j:]]])\n",
        "      if isPal(bw, j, len(bw)-1) and bw[:j] in wmap:\n",
        "        ans.append([wmap[bw[:j]], i])\n",
        "  return ans\n",
        "\n",
        "def isPal(word, i, j):\n",
        "  while i < j:\n",
        "    if word[i] != word[j]: return False\n",
        "    i += 1\n",
        "    j -= 1\n",
        "  return True\n",
        "\n",
        "def isPal2(word): # for naive\n",
        "  return word == word[::-1]\n",
        "\n",
        "words = [\"abcd\",\"dcba\",\"lls\",\"s\",\"sssll\"]\n",
        "print(palindromePairs(words))"
      ],
      "execution_count": null,
      "outputs": [
        {
          "output_type": "stream",
          "name": "stdout",
          "text": [
            "[[0, 1], [1, 0], [3, 2], [2, 4]]\n"
          ]
        }
      ]
    },
    {
      "cell_type": "code",
      "metadata": {
        "colab": {
          "base_uri": "https://localhost:8080/"
        },
        "id": "faON91jyx81S",
        "outputId": "befb63b9-6547-48b7-913d-b7d0c0db11af"
      },
      "source": [
        "## Check parentheses\n",
        "\n",
        "a_str = \"()[]{}\" # valid\n",
        "a_str2 = \"[{()]}\" # invalid\n",
        "a_str3 = \"{[()]}}}\" # invalid\n",
        "a_str4 = \"\" # valid\n",
        "\n",
        "## Approach 1, using stack\n",
        "def isValid(a_str):\n",
        "  stack = []\n",
        "  if a_str == \"\": return True\n",
        "  if len(a_str) % 2 != 0: return False\n",
        "  for s in a_str:\n",
        "    if (s == '(' or s == '{' or s == '['):\n",
        "      stack.append(s)\n",
        "    else:\n",
        "      ## mulai kurung buka dulu, gak valid\n",
        "      ## jika masih ada loop, namun stack sementara kosong\n",
        "      if len(stack) == 0: return False \n",
        "      c = stack.pop()\n",
        "      if (c == '(' and s != ')'): return False\n",
        "      if (c == '{' and s != '}'): return False\n",
        "      if (c == '[' and s != ']'): return False\n",
        "  if len(stack) != 0: return False\n",
        "  return True\n",
        "\n",
        "isValid(a_str3)\n",
        "\n",
        "\n",
        "\n",
        "## Approach 2, using hashmap\n",
        "def isValid2(a_str):\n",
        "  if a_str == '': return True\n",
        "  if len(a_str) % 2 != 0: return False\n",
        "  map = {}\n",
        "  map[\")\"] = \"(\"\n",
        "  map[\"}\"] = \"{\"\n",
        "  map[\"]\"] = \"[\"\n",
        "  stack = []\n",
        "  for s in a_str:\n",
        "    if (s not in map):\n",
        "      stack.append(s)\n",
        "    else:\n",
        "      if len(stack) == 0: return False\n",
        "      c = stack.pop()\n",
        "      if c != map[s]: return False\n",
        "  if len(stack) != 0: return False\n",
        "  return True\n",
        "\n",
        "isValid2(a_str2)"
      ],
      "execution_count": null,
      "outputs": [
        {
          "output_type": "execute_result",
          "data": {
            "text/plain": [
              "False"
            ]
          },
          "metadata": {},
          "execution_count": 11
        }
      ]
    },
    {
      "cell_type": "code",
      "metadata": {
        "id": "ryzdKahA52x1"
      },
      "source": [
        "## Longest Substring without repearing character\n",
        "\n",
        "def lengthOfLongestSubstring(s):\n",
        "  left = 0\n",
        "  right = 0\n",
        "  max_ = 0\n",
        "  set_ = set()\n",
        "  while (right < len(s)):\n",
        "    if s[right] in set_:\n",
        "      set_.remove(s[left])\n",
        "      left += 1\n",
        "    else:\n",
        "      set_.add(s[right])\n",
        "      right += 1\n",
        "      max_ = max(max_, len(set_))\n",
        "  return max_\n",
        "\n",
        "## Pass"
      ],
      "execution_count": null,
      "outputs": []
    },
    {
      "cell_type": "code",
      "metadata": {
        "colab": {
          "base_uri": "https://localhost:8080/"
        },
        "id": "qk_5sdFmlAln",
        "outputId": "a3e0d433-4e09-46be-96ce-34daeabbfb89"
      },
      "source": [
        "## Find two number that satisfies target, check pair\n",
        "\n",
        "## Approach 1 (Naive Approach)\n",
        "def isPairSum(A, N, X):\n",
        "  for i in range(N):\n",
        "    for j in range(N):\n",
        "      if (i==j):\n",
        "        continue\n",
        "      if (A[i] + A[j] == X):\n",
        "        return True\n",
        "      if (A[i] + A[j] > X):\n",
        "        break\n",
        "  return False\n",
        "\n",
        "arr = [3, 5, 9, 2, 8, 10, 11]\n",
        "val = 17\n",
        "print(isPairSum(arr, len(arr), val))\n",
        "\n",
        "### Approach 2, Two Pointer Techniques\n",
        "def isPairSum2(A, N, X):\n",
        "  i = 0\n",
        "  j = N - 1\n",
        "  while (i < j):\n",
        "    if (A[i] + A[j] == X):\n",
        "      return True\n",
        "    # If sum of elements at current\n",
        "    # pointers is less, we move towards\n",
        "    # higher values by doing i += 1\n",
        "    elif (A[i] + A[j] < X):\n",
        "      i += 1\n",
        "    # If sum of elements at current\n",
        "    # pointers is more, we move towards\n",
        "    # lower values by doing j -= 1\n",
        "    else:\n",
        "      j -= 1\n",
        "  return False\n",
        "\n",
        "print(isPairSum2(arr, len(arr), val))"
      ],
      "execution_count": null,
      "outputs": [
        {
          "output_type": "stream",
          "name": "stdout",
          "text": [
            "True\n",
            "True\n"
          ]
        }
      ]
    },
    {
      "cell_type": "code",
      "metadata": {
        "id": "tH3VHHEqlvgg",
        "colab": {
          "base_uri": "https://localhost:8080/"
        },
        "outputId": "65d85fbc-056e-48f9-e109-ef48f199a74a"
      },
      "source": [
        "## Product of array except self\n",
        "## input: [1,2,3,4]\n",
        "## output: [24,12,8,6]\n",
        "arr = [1,2,3,4]\n",
        "\n",
        "## Approach 1\n",
        "def productExceptSelf(arr):\n",
        "  total_ = []\n",
        "  for i in range(len(arr)):\n",
        "    total = 1\n",
        "    for j in range(len(arr)):\n",
        "      if j != i:\n",
        "        total = total * arr[j]\n",
        "    total_.append(total)\n",
        "  return total_\n",
        "print(productExceptSelf(arr))\n",
        "\n",
        "## Approach 2\n",
        "def productExceptSelf2(arr):\n",
        "  res = [None for i in range(len(arr))]\n",
        "  left = 1\n",
        "  right = 1\n",
        "  for i in range(len(arr)):\n",
        "    res[i] = left\n",
        "    left = left * arr[i]\n",
        "  for i in range(len(arr)-1, -1, -1):\n",
        "    res[i] = right * res[i]\n",
        "    right = right * arr[i]\n",
        "  return res\n",
        "  \n",
        "print(productExceptSelf2(arr))"
      ],
      "execution_count": null,
      "outputs": [
        {
          "output_type": "stream",
          "name": "stdout",
          "text": [
            "[24, 12, 8, 6]\n",
            "[24, 12, 8, 6]\n"
          ]
        }
      ]
    },
    {
      "cell_type": "code",
      "metadata": {
        "colab": {
          "base_uri": "https://localhost:8080/"
        },
        "id": "yXKFJYeONfyc",
        "outputId": "73285816-d9f9-474b-8136-57da1646da69"
      },
      "source": [
        "### String comprehension\n",
        "## aaabbcccccd to a3b3c5d1 to aaabbcccccd again\n",
        "a_str = 'aaabbcccccd'\n",
        "\n",
        "## Approach 1\n",
        "def stringEncode(a_str):\n",
        "  word = ''\n",
        "  count = 1\n",
        "  for i in range(len(a_str)):\n",
        "    if i != len(a_str) - 1:\n",
        "      if a_str[i] == a_str[i+1]:\n",
        "        count += 1\n",
        "        continue\n",
        "    word += a_str[i] + str(count)\n",
        "    count = 1\n",
        "  return word\n",
        "\n",
        "## Approach 2\n",
        "import collections\n",
        "\n",
        "def stringEncode2(a_str):\n",
        "  count_dict = collections.OrderedDict.fromkeys(a_str, 0)\n",
        "  for char in a_str:\n",
        "    count_dict[char] += 1\n",
        "  encoded_str = ''\n",
        "  for key, value in count_dict.items():\n",
        "    encoded_str += key + str(value)\n",
        "  return encoded_str\n",
        "\n",
        "## Approach 3 (More Naive)\n",
        "def stringEncode3(a_str):\n",
        "  map = {el:0 for el in set(a_str)}\n",
        "  for char in a_str:\n",
        "    map[char] += 1\n",
        "  encoded_str = ''\n",
        "  for key, value in sorted(map.items()):\n",
        "    encoded_str += key + str(value)\n",
        "  return encoded_str\n",
        "\n",
        "print(stringEncode3(a_str))"
      ],
      "execution_count": 45,
      "outputs": [
        {
          "output_type": "stream",
          "name": "stdout",
          "text": [
            "a3b2c5d1\n"
          ]
        }
      ]
    },
    {
      "cell_type": "code",
      "metadata": {
        "colab": {
          "base_uri": "https://localhost:8080/"
        },
        "id": "fV1e1Cki6eI-",
        "outputId": "a45934e4-94d8-495f-ff0a-250c7c082f42"
      },
      "source": [
        "## Third largest element\n",
        "arr1 = [1, 14, 2, 16, 10, 20]\n",
        "arr2 = [19, -10, 20, 14, 2, 16, 10]\n",
        "\n",
        "import sys\n",
        "\n",
        "## Approach 1 : Naive Approach\n",
        "def thirdLargest(arr):\n",
        "  if len(arr) < 3:\n",
        "    print(\"Invalid Input\")\n",
        "    return\n",
        "\n",
        "  # find first largest element\n",
        "  first = -sys.maxsize\n",
        "  for i in range(1, len(arr)):\n",
        "    if (arr[i] > first):\n",
        "      first = arr[i]\n",
        "  \n",
        "  # find second largest element\n",
        "  second = -sys.maxsize\n",
        "  for i in range(0, len(arr)):\n",
        "    if (arr[i] > second and arr[i] < first):\n",
        "      second = arr[i]\n",
        "\n",
        "  # find third largest element\n",
        "  third = -sys.maxsize\n",
        "  for i in range(0, len(arr)):\n",
        "    if (arr[i] > third and arr[i] < second):\n",
        "      third = arr[i]\n",
        "\n",
        "  return third\n",
        "\n",
        "print(thirdLargest(arr1))\n",
        "print(thirdLargest(arr2))\n",
        "\n",
        "## Approach 2\n",
        "# So the idea is to traverse the array from start to end and to keep track \n",
        "# of the three largest elements up to that index (stored in variables). \n",
        "# So after traversing the whole array, the variables would have stored the \n",
        "# indices (or value) of the three largest elements of the array.\n",
        "\n",
        "import sys\n",
        "def thirdLargest2(arr):\n",
        "  if len(arr) < 3:\n",
        "    print(\"Invalid Input\")\n",
        "    return\n",
        "  \n",
        "  ## initialize first, second, and third largest element\n",
        "  first = arr[0]\n",
        "  second = -sys.maxsize\n",
        "  third = -sys.maxsize\n",
        "\n",
        "  # traverse array elements\n",
        "  for i in range(1, len(arr)):\n",
        "    if (arr[i] > first):\n",
        "      third = second\n",
        "      second = first\n",
        "      first = arr[i]\n",
        "    elif (arr[i] > second):\n",
        "      third = second\n",
        "      second = arr[i]\n",
        "    elif (arr[i] > third):\n",
        "      third = arr[i]\n",
        "\n",
        "  return third\n",
        "\n",
        "print()\n",
        "print(thirdLargest2(arr1))\n",
        "print(thirdLargest2(arr2))"
      ],
      "execution_count": 54,
      "outputs": [
        {
          "output_type": "stream",
          "name": "stdout",
          "text": [
            "14\n",
            "16\n",
            "\n",
            "14\n",
            "16\n"
          ]
        }
      ]
    },
    {
      "cell_type": "code",
      "metadata": {
        "id": "EwJC3rkUEoz9"
      },
      "source": [
        ""
      ],
      "execution_count": null,
      "outputs": []
    }
  ]
}