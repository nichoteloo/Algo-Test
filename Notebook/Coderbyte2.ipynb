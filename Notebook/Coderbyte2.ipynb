{
 "cells": [
  {
   "cell_type": "code",
   "execution_count": 6,
   "metadata": {},
   "outputs": [
    {
     "name": "stdout",
     "output_type": "stream",
     "text": [
      "123\n",
      "132\n"
     ]
    }
   ],
   "source": [
    "### Permutatin Step\n",
    "#  Using the Python language, have the function PermutationStep(num) take the num parameter being passed and return the\n",
    "# next number greater than num using the same digits. For example: if num is 123 return 132, if it's 12453 return 12534.\n",
    "#  If a number has no greater permutations, return -1 (ie. 999).\n",
    "\n",
    "from itertools import permutations\n",
    "\n",
    "def PermutationStep(num):\n",
    "    possible_num = [int(\"\".join(pos)) for pos in list(permutations(num, len(num)))]\n",
    "    idx = sorted(possible_num).index(int(num))\n",
    "    return sorted(possible_num)[idx+1]\n",
    "\n",
    "print(PermutationStep(input()))"
   ]
  },
  {
   "cell_type": "code",
   "execution_count": 21,
   "metadata": {},
   "outputs": [
    {
     "name": "stdout",
     "output_type": "stream",
     "text": [
      "0\n"
     ]
    }
   ],
   "source": [
    "### Prime Checker\n",
    "# Have the function PrimeChecker(num) take num and return 1 if any arrangement of num comes out to be a prime number,\n",
    "# otherwise return 0. For example: if num is 910, the output should be 1 because 910 can be arranged into 109 or 019,\n",
    "# both of which are primes.\n",
    "\n",
    "from itertools import permutations\n",
    "\n",
    "def PrimeChecker(num):\n",
    "    possible_num = [int(\"\".join(pos)) for pos in list(permutations(num, len(num)))]\n",
    "    for x in possible_num:\n",
    "        if is_prime(x):\n",
    "            return \"1\"\n",
    "    return \"0\"\n",
    "\n",
    "def is_prime(num):\n",
    "    if num > 1:\n",
    "        for i in range(2, num):\n",
    "            if num % 2 == 0 :\n",
    "                return False\n",
    "    return True\n",
    "\n",
    "num = \"26\"\n",
    "print(PrimeChecker(num))"
   ]
  },
  {
   "cell_type": "code",
   "execution_count": 32,
   "metadata": {},
   "outputs": [
    {
     "name": "stdout",
     "output_type": "stream",
     "text": [
      "454*67-9-3\n"
     ]
    }
   ],
   "source": [
    "### Dash Insert \n",
    "# Using the Python language, have the function DashInsertII(str) insert dashes ('-') between each two odd numbers and\n",
    "# insert asterisks ('*') between each two even numbers in str. For example: if str is 4546793 the output should be\n",
    "# 454*67-9-3. Don't count zero as an odd or even number.\n",
    "\n",
    "def DashInsertII(str):\n",
    "    encoded_str = ''\n",
    "    for i in range(len(str)-1):\n",
    "        encoded_str += str[i]\n",
    "        if int(str[i]) % 2 == 0 and int(str[i+1]) % 2 == 0:\n",
    "            encoded_str += \"*\"\n",
    "        elif int(str[i]) % 2 == 1 and int(str[i+1]) % 2 == 1:\n",
    "            encoded_str += \"-\"\n",
    "    return encoded_str + str[-1]\n",
    "\n",
    "str = \"4546793\"\n",
    "print(DashInsertII(str))"
   ]
  },
  {
   "cell_type": "code",
   "execution_count": 53,
   "metadata": {},
   "outputs": [
    {
     "name": "stdout",
     "output_type": "stream",
     "text": [
      "['4', '4', '4', '4', '4']\n",
      "None\n"
     ]
    }
   ],
   "source": [
    "### Number Search\n",
    "# Have the function NumberSearch(str) take the str parameter, search for all the numbers in the string, add them\n",
    "# together, then return that final number divided by the total amount of letters in the string. For example: if str is\n",
    "# \"Hello6 9World 2, Nic8e D7ay!\" the output should be 2. First if you add up all the numbers, 6 + 9 + 2 + 8 + 7 you get\n",
    "# 32. Then there are 17 letters in the string. 32 / 17 = 1.882, and the final answer should be rounded to the nearest\n",
    "# whole number, so the answer is 2. Only single digit numbers separated by spaces will be used throughout the whole\n",
    "# string (So this won't ever be the case: hello44444 world). Each string will also have at least one letter.\n",
    "\n",
    "import string \n",
    "\n",
    "def NumberSearch(str):\n",
    "    str_ = list(str)\n",
    "    digit = []\n",
    "    for i in range(len(str_)):\n",
    "        if str_[i].isdigit():\n",
    "            digit.append(str_[i])\n",
    "#     letter = [x.lower() for x in str if x.isdigit() == False and x != \" \" and x not in string.punctuation]\n",
    "    print(digit)\n",
    "#     return round(sum(digit)/len(letter))\n",
    "\n",
    "str = \"hello44444 world\"\n",
    "print(NumberSearch(str))"
   ]
  },
  {
   "cell_type": "code",
   "execution_count": 48,
   "metadata": {},
   "outputs": [
    {
     "name": "stdout",
     "output_type": "stream",
     "text": [
      "0\n"
     ]
    }
   ],
   "source": [
    "#### Triple Double\n",
    "#  Using the Python language, have the function TripleDouble(num1,num2) take both parameters being passed, and return 1\n",
    "# if there is a straight triple of a number at any place in num1 and also a straight double of the same number in num2.\n",
    "# For example: if num1 equals 451999277 and num2 equals 41177722899, then return 1 because in the first parameter you\n",
    "# have the straight triple 999 and you have a straight double, 99, of the same number in the second parameter.\n",
    "#  If this isn't the case, return 0.\n",
    "\n",
    "def TripleDouble(num1, num2):\n",
    "    for x in list(set(num1).intersection(num2)):\n",
    "        if num1.count(x) == 3 and num2.count(x) == 2:\n",
    "            return 1\n",
    "            break\n",
    "        else:\n",
    "            continue\n",
    "    return 0\n",
    "    \n",
    "num1 = \"45199277\"\n",
    "num2 = \"41177722899\"\n",
    "print(TripleDouble(num1, num2))"
   ]
  },
  {
   "cell_type": "code",
   "execution_count": 56,
   "metadata": {},
   "outputs": [
    {
     "name": "stdout",
     "output_type": "stream",
     "text": [
      "2\n",
      "2\n"
     ]
    }
   ],
   "source": [
    "### Distinct List\n",
    "#  Using the Python language, have the function DistinctList(arr) take the array of numbers stored in arr and determine\n",
    "# the total number of duplicate entries. For example if the input is [1, 2, 2, 2, 3] then your program should output 2\n",
    "# because there are two duplicates of one of the elements.\n",
    "\n",
    "def DistinctList(arr):\n",
    "    temp = []\n",
    "    duplicate = []\n",
    "    for x in arr:\n",
    "        if x not in temp:\n",
    "            temp.append(x)\n",
    "        elif x in temp:\n",
    "            duplicate.append(x)\n",
    "    return len(set(duplicate))\n",
    "\n",
    "#### ORRR\n",
    "def DistinctList2(an_array):\n",
    "    distinct_array = list(set(an_array))\n",
    "    return len(an_array) - len(distinct_array)\n",
    "        \n",
    "arr = [1, 2, 2, 3, 3]\n",
    "print(DistinctList(arr))\n",
    "print(DistinctList2(arr))"
   ]
  },
  {
   "cell_type": "code",
   "execution_count": 24,
   "metadata": {
    "scrolled": true
   },
   "outputs": [
    {
     "name": "stdout",
     "output_type": "stream",
     "text": [
      "1653 1#!\n"
     ]
    }
   ],
   "source": [
    "### NUmber Encoding\n",
    "# Using the Python language, have the function NumberEncoding(str) take the str parameter and encode the message\n",
    "# according to the following rule: encode every letter into its corresponding numbered position in the alphabet.\n",
    "# Symbols and spaces will also be used in the input. For example: if str is \"af5c a#!\" then your program should\n",
    "# return 1653 1#!.\n",
    "\n",
    "import string\n",
    "\n",
    "def NumberEncoding(a_string):\n",
    "    letter = ''\n",
    "    for x in a_string:\n",
    "        if x in string.ascii_lowercase:\n",
    "            letter += '{0}'.format(string.ascii_lowercase.index(x) + 1)\n",
    "        else:\n",
    "            letter += x\n",
    "    return letter\n",
    "\n",
    "str = \"af5c a#!\"\n",
    "print(NumberEncoding(str))"
   ]
  },
  {
   "cell_type": "code",
   "execution_count": 26,
   "metadata": {},
   "outputs": [
    {
     "name": "stdout",
     "output_type": "stream",
     "text": [
      "true\n",
      "true\n",
      "false\n"
     ]
    }
   ],
   "source": [
    "### Even Pairs\n",
    "# Have the function EvenPairs(str) take the str parameter being passed and determine if a\n",
    "# pair of adjacent even numbers exists anywhere in the string. If a pair exists, return the\n",
    "# string true, otherwise return false. For example: if str is \"f178svg3k19k46\" then there\n",
    "# are two even numbers at the end of the string, \"46\" so your program should return the\n",
    "# string true. Another example: if str is \"7r5gg812\" then the pair is \"812\" (8 and 12)\n",
    "# so your program should return the string true.\n",
    "\n",
    "import string\n",
    "\n",
    "def EvenPairs(a_string):\n",
    "    temp = ''\n",
    "    for i in range(len(a_string)-1):\n",
    "        if a_string[i] in string.ascii_lowercase and a_string[i+1].isdigit():\n",
    "            temp += a_string[i+1]\n",
    "        elif a_string[i].isdigit() and a_string[i+1].isdigit():\n",
    "            temp += a_string[i+1]\n",
    "        if len(temp) > 1 and int(temp) % 2 == 0:\n",
    "            return \"true\"\n",
    "        if a_string[i+1] in string.ascii_lowercase and a_string[i].isdigit():\n",
    "            temp = ''\n",
    "    return \"false\"\n",
    "\n",
    "a_string1 = \"f176svg3k19k48\"\n",
    "a_string2 = \"7r5gg812\"\n",
    "a_string3 = \"f09r27i8e67\"\n",
    "print(EvenPairs(a_string1))\n",
    "print(EvenPairs(a_string2))\n",
    "print(EvenPairs(a_string3))"
   ]
  },
  {
   "cell_type": "code",
   "execution_count": 37,
   "metadata": {},
   "outputs": [
    {
     "name": "stdout",
     "output_type": "stream",
     "text": [
      "true\n",
      "true\n",
      "false\n",
      "false\n"
     ]
    }
   ],
   "source": [
    "### Formatted Number\n",
    "# Have the function FormattedNumber(strArr) take the strArr parameter being passed, which\n",
    "# will only contain a single element, and return the string true if it is a valid number\n",
    "# that contains only digits with properly placed decimals and commas, otherwise return the\n",
    "# string false. For example: if strArr is [\"1,093,222.04\"] then your program should return\n",
    "# the string true, but if the input were [\"1,093,22.04\"] then your program should return\n",
    "# the string false. The input may contain characters other than digits.\n",
    "\n",
    "def FormattedNumber(strArr):\n",
    "    new_str = strArr[0].split(\",\")\n",
    "    last_str = new_str[-1].split(\".\")\n",
    "    # print(new_str, last_str)\n",
    "    if len(new_str) > 1:\n",
    "        for i in range(1, len(new_str)-1):\n",
    "            if len(new_str[i]) != 3:\n",
    "                return \"false\"\n",
    "        if len(last_str[0]) != 3 or len(last_str) > 2:\n",
    "            return \"false\"\n",
    "    return \"true\"\n",
    "    \n",
    "strArr1 = [\"0.232567\"]\n",
    "strArr2 = [\"1,093,222.04\"]\n",
    "strArr3 = [\"1,093,22.04\"]\n",
    "strArr4 = [\"2,567.00.2\"]\n",
    "print(FormattedNumber(strArr1))\n",
    "print(FormattedNumber(strArr2))\n",
    "print(FormattedNumber(strArr3))\n",
    "print(FormattedNumber(strArr4))"
   ]
  },
  {
   "cell_type": "code",
   "execution_count": 57,
   "metadata": {},
   "outputs": [
    {
     "name": "stdout",
     "output_type": "stream",
     "text": [
      "124 0.0019969940185546875\n",
      "124 0.0009980201721191406\n"
     ]
    }
   ],
   "source": [
    "### Python Age Counting\n",
    "# In the Python file, write a program to perform a GET request on the route\n",
    "# https://coderbyte.com/api/challenges/json/age-counting which contains a data key and the\n",
    "# value is a string which contains items in the format: key=STRING, age=INTEGER. Your goal\n",
    "# is to count how many items exist that have an age equal to or greater than 50, and print\n",
    "# this final value.\n",
    "\n",
    "import time\n",
    "import requests\n",
    "\n",
    "response = requests.get('https://coderbyte.com/api/challenges/json/age-counting')\n",
    "datalist = response.json()['data'].split(\",\")\n",
    "agelist = [data for data in datalist if \"age\" in data]\n",
    "\n",
    "# start_time1 = time.time()\n",
    "# counted = [age for age in agelist if int(age.strip().split(\"=\")[1]) > 50]\n",
    "# end_time1 = time.time()\n",
    "# print(len(counted), (end_time1 - start_time1))\n",
    "\n",
    "# start_time2 = time.time()\n",
    "# counter = 0\n",
    "# for age in agelist:\n",
    "#     if int(age.strip().split(\"=\")[1]) > 50:\n",
    "#         counter += 1\n",
    "# end_time2 = time.time()\n",
    "\n",
    "data  = response.json()['data']\n",
    "d = data.split(',')\n",
    "\n",
    "def age_counting(data, age):\n",
    "    count =0\n",
    "    for i in d:\n",
    "    if i.split('=')[0].strip() == 'age':\n",
    "        if int(i.split('=')[1]) >= age:\n",
    "            count+=1        \n",
    "    return count\n",
    "\n",
    "print(age_counting(d, 50))\n",
    "\n",
    "# print(counter, (end_time2 - start_time2)) ### more fast"
   ]
  },
  {
   "cell_type": "code",
   "execution_count": 63,
   "metadata": {},
   "outputs": [
    {
     "name": "stdout",
     "output_type": "stream",
     "text": [
      "1\n",
      "0\n"
     ]
    }
   ],
   "source": [
    "### Bracket Matcher\n",
    "# Have the function BracketMatcher(str) take the str parameter being passed and return 1 if the brackets \n",
    "# are correctly matched and each one is accounted for. Otherwise return 0. For example: if str is \n",
    "# \"(hello (world))\", then the output should be 1, but if str is \"((hello (world))\" the the output should be \n",
    "# 0 because the brackets do not correctly match up. Only \"(\" and \")\" will be used as brackets. \n",
    "# If str contains no brackets return 1.\n",
    "\n",
    "def BracketMatcher(a_string):\n",
    "    close, open_ = a_string.count(\"(\"), a_string.count(\")\")\n",
    "    if close == open_:\n",
    "        return 1\n",
    "    return 0\n",
    "\n",
    "a_string1 = \"(hello (world))\"\n",
    "a_string2 = \"((hello (world))\"\n",
    "print(BracketMatcher(a_string1))\n",
    "print(BracketMatcher(a_string2))"
   ]
  },
  {
   "cell_type": "code",
   "execution_count": 64,
   "metadata": {},
   "outputs": [],
   "source": [
    "### Eight Queens\n",
    "# Have the function EightQueens(strArr) read strArr which will be an array consisting of the locations of \n",
    "# eight Queens on a standard 8x8 chess board with no other pieces on the board. The structure of strArr will \n",
    "# be the following: [\"(x,y)\", \"(x,y)\", ...] where (x,y) represents the position of the current queen on the \n",
    "# chessboard (x and y will both range from 1 to 8 where 1,1 is the bottom-left of the chessboard and 8,8\n",
    "# is the top-right). Your program should determine if all of the queens are placed in such a \n",
    "# way where none of them are attacking each other. If this is true for the given input, return the string\n",
    "# true otherwise return the first queen in the list that is attacking another piece in the same format it was \n",
    "# provided.\n",
    "\n",
    "\n"
   ]
  },
  {
   "cell_type": "code",
   "execution_count": 68,
   "metadata": {},
   "outputs": [
    {
     "name": "stdout",
     "output_type": "stream",
     "text": [
      "65\n",
      "71\n"
     ]
    }
   ],
   "source": [
    "marks = [65, 71, 68, 74, 61]\n",
    "iterator_marks = iter(marks)\n",
    "marks_1 = next(iterator_marks)\n",
    "print(marks_1)\n",
    "marks_2 = next(iterator_marks)\n",
    "print(marks_2)"
   ]
  },
  {
   "cell_type": "code",
   "execution_count": null,
   "metadata": {},
   "outputs": [],
   "source": [
    "#### Matrix Python\n",
    "# A basic code for matrix input from user\n",
    "\n",
    "R = int(input(\"Enter the number of rows:\"))\n",
    "C = int(input(\"Enter the number of columns:\"))\n",
    "\n",
    "# Initialize matrix\n",
    "matrix = []\n",
    "print(\"Enter the entries rowwise:\")\n",
    "\n",
    "# For user input\n",
    "for i in range(R):\t\t # A for loop for row entries\n",
    "\ta =[]\n",
    "\tfor j in range(C):\t # A for loop for column entries\n",
    "\t\ta.append(int(input()))\n",
    "\tmatrix.append(a)\n",
    "\n",
    "# For printing the matrix\n",
    "for i in range(R):\n",
    "\tfor j in range(C):\n",
    "\t\tprint(matrix[i][j], end = \" \")\n",
    "\tprint()\n"
   ]
  },
  {
   "cell_type": "code",
   "execution_count": null,
   "metadata": {},
   "outputs": [],
   "source": []
  }
 ],
 "metadata": {
  "kernelspec": {
   "display_name": "Python [conda env:NicolasEnv] *",
   "language": "python",
   "name": "conda-env-NicolasEnv-py"
  },
  "language_info": {
   "codemirror_mode": {
    "name": "ipython",
    "version": 3
   },
   "file_extension": ".py",
   "mimetype": "text/x-python",
   "name": "python",
   "nbconvert_exporter": "python",
   "pygments_lexer": "ipython3",
   "version": "3.7.6"
  }
 },
 "nbformat": 4,
 "nbformat_minor": 4
}
