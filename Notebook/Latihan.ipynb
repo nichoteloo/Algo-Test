{
  "nbformat": 4,
  "nbformat_minor": 0,
  "metadata": {
    "kernelspec": {
      "display_name": "Python [conda env:NicolasEnv] *",
      "language": "python",
      "name": "conda-env-NicolasEnv-py"
    },
    "language_info": {
      "codemirror_mode": {
        "name": "ipython",
        "version": 3
      },
      "file_extension": ".py",
      "mimetype": "text/x-python",
      "name": "python",
      "nbconvert_exporter": "python",
      "pygments_lexer": "ipython3",
      "version": "3.7.6"
    },
    "colab": {
      "name": "Latihan.ipynb",
      "provenance": [],
      "collapsed_sections": []
    }
  },
  "cells": [
    {
      "cell_type": "code",
      "metadata": {
        "id": "SHhlO2_mk1Hk",
        "outputId": "0f5f9e74-1bc1-471b-b7fd-7d9861894e8a"
      },
      "source": [
        "print(\"Hello world\")"
      ],
      "execution_count": null,
      "outputs": [
        {
          "name": "stdout",
          "output_type": "stream",
          "text": [
            "Hello world\n"
          ]
        }
      ]
    },
    {
      "cell_type": "code",
      "metadata": {
        "id": "fzO3RsZ8k1H0",
        "outputId": "a82567dd-9785-4788-cecf-8b371d738bb0"
      },
      "source": [
        "def oke(n):\n",
        "    if n%2 == 1 or 6 <= n <= 20:\n",
        "        print(\"weird\")\n",
        "    else:\n",
        "        print(\"not weird\")\n",
        "        \n",
        "oke(int(input()))"
      ],
      "execution_count": null,
      "outputs": [
        {
          "name": "stdout",
          "output_type": "stream",
          "text": [
            "2\n",
            "not weird\n"
          ]
        }
      ]
    },
    {
      "cell_type": "code",
      "metadata": {
        "id": "Uhcq26B3k1H5",
        "outputId": "153d30a9-3dab-4e56-aae3-601b648e61bb"
      },
      "source": [
        "a, b = int(input()), int(input())\n",
        "print(\"\",(a+b),(a-b),(a*b),sep='\\n')"
      ],
      "execution_count": null,
      "outputs": [
        {
          "name": "stdout",
          "output_type": "stream",
          "text": [
            "1\n",
            "2\n",
            "\n",
            "3\n",
            "-1\n",
            "2\n"
          ]
        }
      ]
    },
    {
      "cell_type": "code",
      "metadata": {
        "id": "YG_OoUuQk1H7",
        "outputId": "49e7e187-6251-42e9-9428-3bc47f85191f"
      },
      "source": [
        "a, b = int(input()), int(input())\n",
        "print(\"\", a//b, a/b, sep='\\n')"
      ],
      "execution_count": null,
      "outputs": [
        {
          "name": "stdout",
          "output_type": "stream",
          "text": [
            "3\n",
            "2\n",
            "\n",
            "1\n",
            "1.5\n"
          ]
        }
      ]
    },
    {
      "cell_type": "code",
      "metadata": {
        "id": "PAD_FuxAk1H9",
        "outputId": "8ba99e76-b9b5-4ad7-dcd2-93ac7a04bd97"
      },
      "source": [
        "for i in range(int(input())):\n",
        "    print(i**2)"
      ],
      "execution_count": null,
      "outputs": [
        {
          "name": "stdout",
          "output_type": "stream",
          "text": [
            "4\n",
            "0\n",
            "1\n",
            "4\n",
            "9\n"
          ]
        }
      ]
    },
    {
      "cell_type": "code",
      "metadata": {
        "id": "DtHbhafnk1H_",
        "outputId": "0e8c7ed6-3d6f-4b08-f06c-e33a00e29479"
      },
      "source": [
        "def is_leap(year):\n",
        "    leap = False\n",
        "    if year % 4 == 0 and (year % 400 == 0 or year % 100 != 0):\n",
        "            leap = True\n",
        "    return leap\n",
        "\n",
        "print(is_leap(int(input())))"
      ],
      "execution_count": null,
      "outputs": [
        {
          "name": "stdout",
          "output_type": "stream",
          "text": [
            "2000\n",
            "True\n"
          ]
        }
      ]
    },
    {
      "cell_type": "code",
      "metadata": {
        "id": "fjV3P_i9k1IB",
        "outputId": "10a663e6-9043-4278-e0fc-e45e314cd62c"
      },
      "source": [
        "def set_unique(list1):\n",
        "    list_set = set(list1)\n",
        "    print(sorted(list_set))\n",
        "    print(len(sorted(list_set)))\n",
        "\n",
        "def unique(list1):\n",
        "    unique_list = []\n",
        "    for x in list1:\n",
        "        if x not in unique_list:\n",
        "            unique_list.append(x)\n",
        "    print(unique_list)\n",
        "    print(len(unique_list))\n",
        "    \n",
        "list1 = [10, 20, 10, 30, 40, 40]\n",
        "set_unique(list1)\n",
        "print(\" \")\n",
        "unique(list1)"
      ],
      "execution_count": null,
      "outputs": [
        {
          "name": "stdout",
          "output_type": "stream",
          "text": [
            "[10, 20, 30, 40]\n",
            "4\n",
            " \n",
            "[10, 20, 30, 40]\n",
            "4\n"
          ]
        }
      ]
    },
    {
      "cell_type": "code",
      "metadata": {
        "id": "HTRRAXqPk1IH",
        "outputId": "49ff4791-6a92-4e2e-efc1-33d0c0e49793"
      },
      "source": [
        "arr = [\"1, 3, 4, 7, 13\", \"1, 2, 4, 13, 15\"]\n",
        "sorted(set([int(x.strip()) for a in arr for x in a.split(\",\")]))"
      ],
      "execution_count": null,
      "outputs": [
        {
          "data": {
            "text/plain": [
              "[1, 2, 3, 4, 7, 13, 15]"
            ]
          },
          "execution_count": 44,
          "metadata": {},
          "output_type": "execute_result"
        }
      ]
    },
    {
      "cell_type": "code",
      "metadata": {
        "id": "6v32IlCuk1IL"
      },
      "source": [
        "c = [a.strip() for a in arr[0].split(\",\")]\n",
        "d = [a.strip() for a in arr[1].split(\",\")]"
      ],
      "execution_count": null,
      "outputs": []
    },
    {
      "cell_type": "code",
      "metadata": {
        "id": "DZ0s4PNzk1IO",
        "outputId": "1b39530a-b955-4974-f53e-33f8d3110771"
      },
      "source": [
        "[val for val in c if val in d]"
      ],
      "execution_count": null,
      "outputs": [
        {
          "data": {
            "text/plain": [
              "['1', '4', '13']"
            ]
          },
          "execution_count": 66,
          "metadata": {},
          "output_type": "execute_result"
        }
      ]
    },
    {
      "cell_type": "code",
      "metadata": {
        "id": "iAxpjdTKk1IR",
        "outputId": "c4cb3dfc-1310-4fab-be05-fd6b9bed4601"
      },
      "source": [
        "set(arr[0].split(\",\"))"
      ],
      "execution_count": null,
      "outputs": [
        {
          "data": {
            "text/plain": [
              "{' 13', ' 3', ' 4', ' 7', '1'}"
            ]
          },
          "execution_count": 67,
          "metadata": {},
          "output_type": "execute_result"
        }
      ]
    },
    {
      "cell_type": "code",
      "metadata": {
        "id": "CKykYg7ek1IT"
      },
      "source": [
        "### https://coderbyte.com/editor/Find%20Intersection:Python3\n",
        "\n",
        "## Find Intersection\n",
        "def FindIntersection(strArr):\n",
        "    # code goes here\n",
        "    arr1 = set([int(a.strip()) for a in strArr[0].split(\",\")])\n",
        "    arr2 = set([int(a.strip()) for a in strArr[1].split(\",\")])\n",
        "    \n",
        "    preresult = sorted(list(arr1.intersection(arr2))) ## method perform only for array\n",
        "    result = [str(x) for x in preresult]\n",
        "    \n",
        "    return \",\".join(result) if len(result) > 0 else False\n",
        "\n",
        "# keep this function call here \n",
        "# print(FindIntersection(input()))"
      ],
      "execution_count": null,
      "outputs": []
    },
    {
      "cell_type": "code",
      "metadata": {
        "id": "-G8Rhl7pk1IW",
        "outputId": "09c10534-e33a-43a5-b715-e84301b61a30"
      },
      "source": [
        "## find intersection traditional, input int\n",
        "\n",
        "def intersection(list1, list2):\n",
        "    return [val for val in list1 if val in list2]\n",
        "\n",
        "def intersection2(list1, list2):\n",
        "    return list(set(list1) & set(list2))\n",
        "\n",
        "def intersection3(list1, list2):\n",
        "    return set(list1).intersection(list2)\n",
        "\n",
        "lst1 = [4, 9, 1, 17, 11, 26, 28, 54, 69]\n",
        "lst2 = [9, 9, 74, 21, 45, 11, 63, 28, 26]\n",
        "print(intersection(sorted(lst1), sorted(lst2)))\n",
        "print(intersection2(sorted(lst1), sorted(lst2)))\n",
        "print(intersection3(sorted(lst1), sorted(lst2)))\n"
      ],
      "execution_count": null,
      "outputs": [
        {
          "name": "stdout",
          "output_type": "stream",
          "text": [
            "[9, 11, 26, 28]\n",
            "{1, 4, 69, 9, 11, 17, 54, 26, 28}\n",
            "[9, 26, 11, 28]\n",
            "{9, 26, 11, 28}\n"
          ]
        }
      ]
    },
    {
      "cell_type": "code",
      "metadata": {
        "id": "OuMSyQuRk1IZ"
      },
      "source": [
        "##### Exercise"
      ],
      "execution_count": null,
      "outputs": []
    },
    {
      "cell_type": "code",
      "metadata": {
        "colab": {
          "base_uri": "https://localhost:8080/"
        },
        "id": "IYJ0iXQok_5z",
        "outputId": "7eea14c6-f1c4-4740-ad06-5fc4c6ad4dd9"
      },
      "source": [
        "### Sum to a number\n",
        "# Time Complexity: O(N)\n",
        "# Space Complexity: O(N)\n",
        "\n",
        "data = [ 2, 5, 7, 3 ]\n",
        "target = 10\n",
        "\n",
        "def problem_1(data, target):\n",
        "  num_dict = {}\n",
        "  data_length = len(data)\n",
        "  for i in range(0, data_length):\n",
        "    other_num = target - data[i]\n",
        "    print(i)\n",
        "    if (other_num in num_dict):\n",
        "      return [num_dict[other_num], i]\n",
        "    num_dict[data[i]] = i\n",
        "\n",
        "print(problem_1(data, target))"
      ],
      "execution_count": null,
      "outputs": [
        {
          "output_type": "stream",
          "name": "stdout",
          "text": [
            "0\n",
            "1\n",
            "2\n",
            "3\n",
            "[2, 3]\n"
          ]
        }
      ]
    },
    {
      "cell_type": "code",
      "metadata": {
        "colab": {
          "base_uri": "https://localhost:8080/"
        },
        "id": "-vxmoP7DlDrl",
        "outputId": "8622c221-481e-4ee9-97da-29cc40426dc7"
      },
      "source": [
        "## find duplicates\n",
        "data = [ 2, 2, 3, 4 ,5 ]\n",
        "\n",
        "def problem_2(data):\n",
        "  num_dict = {}\n",
        "  for el in data:\n",
        "    num_dict[el] = num_dict.get(el, 0) + 1\n",
        "  return [value for key, value in num_dict.items() if value == 2]\n",
        "\n",
        "print(problem_2(data))"
      ],
      "execution_count": null,
      "outputs": [
        {
          "output_type": "stream",
          "name": "stdout",
          "text": [
            "[2]\n"
          ]
        }
      ]
    },
    {
      "cell_type": "code",
      "metadata": {
        "colab": {
          "base_uri": "https://localhost:8080/"
        },
        "id": "pX_uVTZx3vaP",
        "outputId": "91a0e599-17e5-443d-b4ba-99b1d0a82ce9"
      },
      "source": [
        "## Move element aside\n",
        "data = [ 0, 1, 0, 3, 2, 5 ]\n",
        "\n",
        "def problem_3(arr):\n",
        "  i = 0\n",
        "  j = len(arr)\n",
        "  for el in arr:\n",
        "    if (el != 0):\n",
        "      arr[i] = el\n",
        "      i += 1\n",
        "  for k in range(i, j):\n",
        "    arr[k] = 0\n",
        "  return arr\n",
        "\n",
        "print(problem_3(data))"
      ],
      "execution_count": null,
      "outputs": [
        {
          "output_type": "stream",
          "name": "stdout",
          "text": [
            "[1, 3, 2, 5, 0, 0]\n"
          ]
        }
      ]
    },
    {
      "cell_type": "code",
      "metadata": {
        "id": "XOtvhxR65hP_",
        "colab": {
          "base_uri": "https://localhost:8080/"
        },
        "outputId": "3e2a000e-aca1-4db8-ce77-496d95eeb890"
      },
      "source": [
        "### Longest substring\n",
        "data = \"abcaabcdaabcef\"\n",
        "\n",
        "def problem_solution(data):\n",
        "  char_dict = {}\n",
        "  left_point = 0\n",
        "  right_point = 0\n",
        "  substring_length = 0\n",
        "  datastring_length = len(data)\n",
        "\n",
        "  while (left_point < datastring_length and right_point < datastring_length):\n",
        "    element = data[right_point]\n",
        "    if (element in char_dict):\n",
        "      left_point = max(left_point, char_dict[element] + 1)\n",
        "    char_dict[element] = right_point\n",
        "    substring_length = max(substring_length, right_point - left_point + 1)\n",
        "    right_point += 1\n",
        "  \n",
        "  return substring_length\n",
        "\n",
        "print(problem_solution(data))"
      ],
      "execution_count": null,
      "outputs": [
        {
          "output_type": "stream",
          "name": "stdout",
          "text": [
            "{'a': 9, 'b': 10, 'c': 11, 'd': 7, 'e': 12, 'f': 13}\n",
            "5\n"
          ]
        }
      ]
    },
    {
      "cell_type": "code",
      "metadata": {
        "colab": {
          "base_uri": "https://localhost:8080/"
        },
        "id": "X-JUwf_KtSzC",
        "outputId": "0a456a65-faa8-48a7-cc2f-b0938126e7a3"
      },
      "source": [
        "# PROBLEM: Given an array of people weight and\n",
        "# and integer as limit capacity of each boat,\n",
        "# return the minimum number of boats to carry\n",
        "# all people.\n",
        "# Weight = [ 2, 1, 3, 2], limit = 2\n",
        "## Boats to people\n",
        "data = [2, 1, 3, 2]\n",
        "limit = 2\n",
        "\n",
        "def problem_solution(data, limit):\n",
        "    data.sort()\n",
        "    left_point = 0\n",
        "    right_point = len(data) - 1\n",
        "    boat_need = 0\n",
        "\n",
        "    while(left_point <= right_point):\n",
        "        if(left_point == right_point):\n",
        "            boat_need += 1\n",
        "            break\n",
        "        if(data[left_point] + data[right_point] <= limit):\n",
        "            left_point += 1\n",
        "        right_point -= 1\n",
        "\n",
        "    return boat_need\n",
        "\n",
        "print(problem_solution(data, limit))"
      ],
      "execution_count": null,
      "outputs": [
        {
          "output_type": "stream",
          "name": "stdout",
          "text": [
            "1\n"
          ]
        }
      ]
    },
    {
      "cell_type": "code",
      "metadata": {
        "id": "Irqg1X2D32jI"
      },
      "source": [
        "## with python module\n",
        "def anagram(s1, s2):\n",
        "  return sorted(s1.replace(\" \",\"\").lower()) == sorted(s2.replace(\" \",\"\").lower())\n",
        "\n",
        "anagram( \"Clint Eastwood\",  \"Old West Action\")\n",
        "\n",
        "## without python module\n",
        "def anagram2(s1, s2):\n",
        "  s1_new = [letter.lower() for letter in s1 if letter != \" \"]\n",
        "  s2_new = [letter.lower() for letter in s2 if letter != \" \"]\n",
        "  if len(s1_new) != len(s2_new):\n",
        "    return False\n",
        "  else:\n",
        "    d_s1 = {letter:s1_new.count(letter) for letter in s1_new}\n",
        "    d_s2 = {letter:s2_new.count(letter) for letter in s2_new}\n",
        "  return d_s1 == d_s2\n",
        "\n",
        "anagram2( \"Clint Eastwood\",  \"Old West Action\")\n",
        "\n",
        "### without count module\n",
        "cnt1 = {}\n",
        "cnt2 = {}\n",
        "def anagram3(s1, s2):\n",
        "  s1_new = [letter.lower() for letter in s1 if letter != \" \"]\n",
        "  s2_new = [letter.lower() for letter in s2 if letter != \" \"]\n",
        "  if len(s1_new) != len(s2_new):\n",
        "    return False\n",
        "  else:\n",
        "    for letter in s1_new:\n",
        "      if letter in cnt1:\n",
        "        cnt1[letter] += 1\n",
        "      else: cnt1[letter] = 1\n",
        "    \n",
        "    for letter in s2_new:\n",
        "      if letter in cnt2:\n",
        "        cnt2[letter] += 1\n",
        "      else: cnt2[letter] = 1\n",
        "  return cnt1 == cnt2"
      ],
      "execution_count": null,
      "outputs": []
    },
    {
      "cell_type": "code",
      "metadata": {
        "colab": {
          "base_uri": "https://localhost:8080/"
        },
        "id": "3_RwLxzuE8hs",
        "outputId": "6c5cb583-e211-4a2c-ef7e-60f0cf02be6d"
      },
      "source": [
        "## array algorithm\n",
        "data = [1, 3, 2, 2, 5, -1]\n",
        "target = 4\n",
        "\n",
        "def pair_sum(data, target):\n",
        "  dict_ = {}\n",
        "  total = []\n",
        "  for i in range(len(data)):\n",
        "    other_num = target - data[i]\n",
        "    if other_num in dict_:\n",
        "      total.append((other_num, data[i]))\n",
        "    dict_[data[i]] = i\n",
        "  for el in total:\n",
        "    print(el)\n",
        "pair_sum(data, target)\n",
        "print()\n",
        "\n",
        "##### ORR #### (another approach, not the best approach)\n",
        "def pair_sum2(data, target):\n",
        "  if len(data) == 1:\n",
        "    print(\"Not possible\")\n",
        "  else:\n",
        "    for i in range(len(data)-1):\n",
        "      if data[i] + data[i+1] == target:\n",
        "        print(\"({0}, {1})\".format(data[i], data[i+1]))\n",
        "\n",
        "pair_sum2(data, target)\n",
        "print()\n",
        "\n",
        "##### ORR ####\n",
        "def pair_sum3(array, k):\n",
        "    if len(array) < 2:\n",
        "        return print(\"Too small\")\n",
        "    seen = set()\n",
        "    output = set()\n",
        "    for num in array:\n",
        "        target = k - num\n",
        "        if target not in seen:\n",
        "            seen.add(num)\n",
        "        else:\n",
        "            output.add((min(num, target), max(num, target)))\n",
        "    print('\\n'.join(map(str, list(output))))\n",
        "pair_sum3(data, target)"
      ],
      "execution_count": null,
      "outputs": [
        {
          "output_type": "stream",
          "name": "stdout",
          "text": [
            "(1, 3)\n",
            "(2, 2)\n",
            "(5, -1)\n",
            "\n",
            "(1, 3)\n",
            "(2, 2)\n",
            "(5, -1)\n",
            "\n",
            "(1, 3)\n",
            "(-1, 5)\n",
            "(2, 2)\n"
          ]
        }
      ]
    },
    {
      "cell_type": "code",
      "metadata": {
        "colab": {
          "base_uri": "https://localhost:8080/"
        },
        "id": "nLuwDBHxKpDH",
        "outputId": "a19ab5ca-86e0-4a42-b18d-cb982bd22afc"
      },
      "source": [
        "## Largest sum\n",
        "def largest(a):\n",
        "  if len(a) == 0:\n",
        "    return \"Empty array\"\n",
        "  max_sum = current_sum = a[0]\n",
        "  for num in a[1:]:\n",
        "    current_sum = max(current_sum + num, num)\n",
        "    max_sum = max(current_sum, max_sum)\n",
        "  return max_sum\n",
        "\n",
        "print(largest([7, 1, 2, -1, 3, 4, 10, -12, 3, 21, -19]))"
      ],
      "execution_count": null,
      "outputs": [
        {
          "output_type": "stream",
          "name": "stdout",
          "text": [
            "38\n"
          ]
        }
      ]
    },
    {
      "cell_type": "code",
      "metadata": {
        "colab": {
          "base_uri": "https://localhost:8080/"
        },
        "id": "VqMgGm2dYC6D",
        "outputId": "a61e583e-2573-48af-d45a-e13c915ae73a"
      },
      "source": [
        "## Reverse all the word\n",
        "def rev_str(s):\n",
        "  if len(s.split()) == 1:\n",
        "    return s\n",
        "  return [rev for rev in list(s.split())[::-1]]\n",
        "\n",
        "rev_str(\"This is the best\")"
      ],
      "execution_count": null,
      "outputs": [
        {
          "output_type": "execute_result",
          "data": {
            "text/plain": [
              "['best', 'the', 'is', 'This']"
            ]
          },
          "metadata": {},
          "execution_count": 44
        }
      ]
    },
    {
      "cell_type": "code",
      "metadata": {
        "id": "MJUyL4x1ZcTk",
        "colab": {
          "base_uri": "https://localhost:8080/"
        },
        "outputId": "2419f58b-4593-4a03-ba8c-81f89d6e7e7c"
      },
      "source": [
        "## Array anaysis (Array rotation)\n",
        "\n",
        "def rotation(list1, list2):\n",
        "  if len(list1) != len(list2):\n",
        "    return False\n",
        "  key = list1[0]\n",
        "  key_index = 0\n",
        "  for i in range(len(list2)):\n",
        "    if list2[i] == key:\n",
        "      key_index = i\n",
        "      break\n",
        "  if key_index == 0:\n",
        "    return False\n",
        "  for x in range(len(list1)):\n",
        "    l2_idx = (key_index + x) % len(list1)\n",
        "    if list1[x] != list2[l2_idx]:\n",
        "      return False\n",
        "  return True\n",
        "\n",
        "rotation([1,2,3,4,5], [4,5,1,2,3])"
      ],
      "execution_count": null,
      "outputs": [
        {
          "output_type": "execute_result",
          "data": {
            "text/plain": [
              "True"
            ]
          },
          "metadata": {},
          "execution_count": 3
        }
      ]
    },
    {
      "cell_type": "code",
      "metadata": {
        "colab": {
          "base_uri": "https://localhost:8080/"
        },
        "id": "BEIiTnfqKt2X",
        "outputId": "9d2a99c4-0a34-44d9-881f-80d2702530a7"
      },
      "source": [
        "## Array common elements\n",
        "def common_el(a1, a2):\n",
        "  if not a1 or not a2:\n",
        "    return \"One or both arrays are empty\"\n",
        "  return sorted(list(set(a1).intersection(a2)))\n",
        "print(common_el([1,3,4,6,7,9], [1,2,4,5,9,10]))\n",
        "print(common_el([], [1,2,4,5,9,10]))"
      ],
      "execution_count": null,
      "outputs": [
        {
          "output_type": "stream",
          "name": "stdout",
          "text": [
            "[1, 4, 9]\n",
            "One or both arrays are empty\n"
          ]
        }
      ]
    },
    {
      "cell_type": "code",
      "metadata": {
        "id": "5Yxj6W5FNT-O"
      },
      "source": [
        ""
      ],
      "execution_count": null,
      "outputs": []
    }
  ]
}