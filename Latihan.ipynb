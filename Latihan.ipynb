{
 "cells": [
  {
   "cell_type": "code",
   "execution_count": 1,
   "metadata": {},
   "outputs": [
    {
     "name": "stdout",
     "output_type": "stream",
     "text": [
      "Hello world\n"
     ]
    }
   ],
   "source": [
    "print(\"Hello world\")"
   ]
  },
  {
   "cell_type": "code",
   "execution_count": 2,
   "metadata": {},
   "outputs": [
    {
     "name": "stdout",
     "output_type": "stream",
     "text": [
      "2\n",
      "not weird\n"
     ]
    }
   ],
   "source": [
    "def oke(n):\n",
    "    if n%2 == 1 or 6 <= n <= 20:\n",
    "        print(\"weird\")\n",
    "    else:\n",
    "        print(\"not weird\")\n",
    "        \n",
    "oke(int(input()))"
   ]
  },
  {
   "cell_type": "code",
   "execution_count": 3,
   "metadata": {},
   "outputs": [
    {
     "name": "stdout",
     "output_type": "stream",
     "text": [
      "1\n",
      "2\n",
      "\n",
      "3\n",
      "-1\n",
      "2\n"
     ]
    }
   ],
   "source": [
    "a, b = int(input()), int(input())\n",
    "print(\"\",(a+b),(a-b),(a*b),sep='\\n')"
   ]
  },
  {
   "cell_type": "code",
   "execution_count": 4,
   "metadata": {},
   "outputs": [
    {
     "name": "stdout",
     "output_type": "stream",
     "text": [
      "3\n",
      "2\n",
      "\n",
      "1\n",
      "1.5\n"
     ]
    }
   ],
   "source": [
    "a, b = int(input()), int(input())\n",
    "print(\"\", a//b, a/b, sep='\\n')"
   ]
  },
  {
   "cell_type": "code",
   "execution_count": 5,
   "metadata": {},
   "outputs": [
    {
     "name": "stdout",
     "output_type": "stream",
     "text": [
      "4\n",
      "0\n",
      "1\n",
      "4\n",
      "9\n"
     ]
    }
   ],
   "source": [
    "for i in range(int(input())):\n",
    "    print(i**2)"
   ]
  },
  {
   "cell_type": "code",
   "execution_count": 7,
   "metadata": {},
   "outputs": [
    {
     "name": "stdout",
     "output_type": "stream",
     "text": [
      "2000\n",
      "True\n"
     ]
    }
   ],
   "source": [
    "def is_leap(year):\n",
    "    leap = False\n",
    "    if year % 4 == 0 and (year % 400 == 0 or year % 100 != 0):\n",
    "            leap = True\n",
    "    return leap\n",
    "\n",
    "print(is_leap(int(input())))"
   ]
  },
  {
   "cell_type": "code",
   "execution_count": 17,
   "metadata": {},
   "outputs": [
    {
     "name": "stdout",
     "output_type": "stream",
     "text": [
      "[10, 20, 30, 40]\n",
      "4\n",
      " \n",
      "[10, 20, 30, 40]\n",
      "4\n"
     ]
    }
   ],
   "source": [
    "def set_unique(list1):\n",
    "    list_set = set(list1)\n",
    "    print(sorted(list_set))\n",
    "    print(len(sorted(list_set)))\n",
    "\n",
    "def unique(list1):\n",
    "    unique_list = []\n",
    "    for x in list1:\n",
    "        if x not in unique_list:\n",
    "            unique_list.append(x)\n",
    "    print(unique_list)\n",
    "    print(len(unique_list))\n",
    "    \n",
    "list1 = [10, 20, 10, 30, 40, 40]\n",
    "set_unique(list1)\n",
    "print(\" \")\n",
    "unique(list1)"
   ]
  },
  {
   "cell_type": "code",
   "execution_count": 44,
   "metadata": {},
   "outputs": [
    {
     "data": {
      "text/plain": [
       "[1, 2, 3, 4, 7, 13, 15]"
      ]
     },
     "execution_count": 44,
     "metadata": {},
     "output_type": "execute_result"
    }
   ],
   "source": [
    "arr = [\"1, 3, 4, 7, 13\", \"1, 2, 4, 13, 15\"]\n",
    "sorted(set([int(x.strip()) for a in arr for x in a.split(\",\")]))"
   ]
  },
  {
   "cell_type": "code",
   "execution_count": 64,
   "metadata": {},
   "outputs": [],
   "source": [
    "c = [a.strip() for a in arr[0].split(\",\")]\n",
    "d = [a.strip() for a in arr[1].split(\",\")]"
   ]
  },
  {
   "cell_type": "code",
   "execution_count": 66,
   "metadata": {},
   "outputs": [
    {
     "data": {
      "text/plain": [
       "['1', '4', '13']"
      ]
     },
     "execution_count": 66,
     "metadata": {},
     "output_type": "execute_result"
    }
   ],
   "source": [
    "[val for val in c if val in d]"
   ]
  },
  {
   "cell_type": "code",
   "execution_count": 67,
   "metadata": {},
   "outputs": [
    {
     "data": {
      "text/plain": [
       "{' 13', ' 3', ' 4', ' 7', '1'}"
      ]
     },
     "execution_count": 67,
     "metadata": {},
     "output_type": "execute_result"
    }
   ],
   "source": [
    "set(arr[0].split(\",\"))"
   ]
  },
  {
   "cell_type": "code",
   "execution_count": 69,
   "metadata": {},
   "outputs": [],
   "source": [
    "### https://coderbyte.com/editor/Find%20Intersection:Python3\n",
    "\n",
    "## Find Intersection\n",
    "def FindIntersection(strArr):\n",
    "    # code goes here\n",
    "    arr1 = set([int(a.strip()) for a in strArr[0].split(\",\")])\n",
    "    arr2 = set([int(a.strip()) for a in strArr[1].split(\",\")])\n",
    "    \n",
    "    preresult = sorted(list(arr1.intersection(arr2))) ## method perform only for array\n",
    "    result = [str(x) for x in preresult]\n",
    "    \n",
    "    return \",\".join(result) if len(result) > 0 else False\n",
    "\n",
    "# keep this function call here \n",
    "# print(FindIntersection(input()))"
   ]
  },
  {
   "cell_type": "code",
   "execution_count": 76,
   "metadata": {},
   "outputs": [
    {
     "name": "stdout",
     "output_type": "stream",
     "text": [
      "[9, 11, 26, 28]\n",
      "{1, 4, 69, 9, 11, 17, 54, 26, 28}\n",
      "[9, 26, 11, 28]\n",
      "{9, 26, 11, 28}\n"
     ]
    }
   ],
   "source": [
    "## find intersection traditional, input int\n",
    "\n",
    "def intersection(list1, list2):\n",
    "    return [val for val in list1 if val in list2]\n",
    "\n",
    "def intersection2(list1, list2):\n",
    "    return list(set(list1) & set(list2))\n",
    "\n",
    "def intersection3(list1, list2):\n",
    "    return set(list1).intersection(list2)\n",
    "\n",
    "lst1 = [4, 9, 1, 17, 11, 26, 28, 54, 69]\n",
    "lst2 = [9, 9, 74, 21, 45, 11, 63, 28, 26]\n",
    "print(intersection(sorted(lst1), sorted(lst2)))\n",
    "print(intersection2(sorted(lst1), sorted(lst2)))\n",
    "print(intersection3(sorted(lst1), sorted(lst2)))\n"
   ]
  },
  {
   "cell_type": "code",
   "execution_count": null,
   "metadata": {},
   "outputs": [],
   "source": []
  }
 ],
 "metadata": {
  "kernelspec": {
   "display_name": "Python [conda env:NicolasEnv] *",
   "language": "python",
   "name": "conda-env-NicolasEnv-py"
  },
  "language_info": {
   "codemirror_mode": {
    "name": "ipython",
    "version": 3
   },
   "file_extension": ".py",
   "mimetype": "text/x-python",
   "name": "python",
   "nbconvert_exporter": "python",
   "pygments_lexer": "ipython3",
   "version": "3.7.6"
  }
 },
 "nbformat": 4,
 "nbformat_minor": 4
}
